{
 "cells": [
  {
   "cell_type": "code",
   "execution_count": 1021,
   "metadata": {},
   "outputs": [],
   "source": [
    "with open('data/combined_english_names_cleaned.txt','r') as f:\n",
    "    names = [x.strip().lower() for x in f.readlines()]\n",
    "    "
   ]
  },
  {
   "cell_type": "code",
   "execution_count": 1022,
   "metadata": {},
   "outputs": [],
   "source": [
    "import torch\n",
    "import torch.nn.functional as F \n",
    "import matplotlib.pyplot as plt \n",
    "from tqdm import tqdm\n",
    "%matplotlib inline\n",
    "\n"
   ]
  },
  {
   "cell_type": "code",
   "execution_count": 1023,
   "metadata": {},
   "outputs": [
    {
     "data": {
      "text/plain": [
       "['abdelrahman',\n",
       " 'albiloni',\n",
       " 'wsamaiah',\n",
       " 'sammar',\n",
       " 'alrshidiah',\n",
       " 'jllai',\n",
       " 'aljroshi',\n",
       " 'hazizah',\n",
       " 'noshin',\n",
       " 'akhdan']"
      ]
     },
     "execution_count": 1023,
     "metadata": {},
     "output_type": "execute_result"
    }
   ],
   "source": [
    "names[:10]"
   ]
  },
  {
   "cell_type": "code",
   "execution_count": 1024,
   "metadata": {},
   "outputs": [
    {
     "data": {
      "text/plain": [
       "52813"
      ]
     },
     "execution_count": 1024,
     "metadata": {},
     "output_type": "execute_result"
    }
   ],
   "source": [
    "len(names)"
   ]
  },
  {
   "cell_type": "code",
   "execution_count": 1025,
   "metadata": {},
   "outputs": [
    {
     "data": {
      "text/plain": [
       "['.',\n",
       " '-',\n",
       " 'a',\n",
       " 'b',\n",
       " 'c',\n",
       " 'd',\n",
       " 'e',\n",
       " 'f',\n",
       " 'g',\n",
       " 'h',\n",
       " 'i',\n",
       " 'j',\n",
       " 'k',\n",
       " 'l',\n",
       " 'm',\n",
       " 'n',\n",
       " 'o',\n",
       " 'p',\n",
       " 'q',\n",
       " 'r',\n",
       " 's',\n",
       " 't',\n",
       " 'u',\n",
       " 'v',\n",
       " 'w',\n",
       " 'y',\n",
       " 'z']"
      ]
     },
     "execution_count": 1025,
     "metadata": {},
     "output_type": "execute_result"
    }
   ],
   "source": [
    "chars = ['.'] + sorted(list(set(''.join(names))))\n",
    "chars"
   ]
  },
  {
   "cell_type": "code",
   "execution_count": 1026,
   "metadata": {},
   "outputs": [
    {
     "name": "stdout",
     "output_type": "stream",
     "text": [
      "{'.': 0, '-': 1, 'a': 2, 'b': 3, 'c': 4, 'd': 5, 'e': 6, 'f': 7, 'g': 8, 'h': 9, 'i': 10, 'j': 11, 'k': 12, 'l': 13, 'm': 14, 'n': 15, 'o': 16, 'p': 17, 'q': 18, 'r': 19, 's': 20, 't': 21, 'u': 22, 'v': 23, 'w': 24, 'y': 25, 'z': 26}\n",
      "{0: '.', 1: '-', 2: 'a', 3: 'b', 4: 'c', 5: 'd', 6: 'e', 7: 'f', 8: 'g', 9: 'h', 10: 'i', 11: 'j', 12: 'k', 13: 'l', 14: 'm', 15: 'n', 16: 'o', 17: 'p', 18: 'q', 19: 'r', 20: 's', 21: 't', 22: 'u', 23: 'v', 24: 'w', 25: 'y', 26: 'z'}\n"
     ]
    }
   ],
   "source": [
    "stoi = { c:i for i,c in enumerate(chars)}\n",
    "\n",
    "\n",
    "itos = {i:c for c,i in stoi.items()}\n",
    "\n",
    "print(stoi)\n",
    "print(itos)\n"
   ]
  },
  {
   "attachments": {},
   "cell_type": "markdown",
   "metadata": {},
   "source": [
    "## Building Dataset\n",
    " The idea is to create a dataset from the names, by creating a context, target pairs"
   ]
  },
  {
   "cell_type": "code",
   "execution_count": 1027,
   "metadata": {},
   "outputs": [],
   "source": [
    "def build_dataset(context_size, names, p=False):\n",
    "    X = []\n",
    "    Y = []\n",
    "\n",
    "    for name in names:\n",
    "\n",
    "        if p :\n",
    "            print(name)\n",
    "        context = [stoi['.']] * context_size\n",
    "\n",
    "        for c in name + '.':\n",
    "            X.append(context)\n",
    "            Y.append(stoi[c])\n",
    "\n",
    "            if p:\n",
    "                print( ''.join(itos[x] for x in context) ,f' --> {c}')\n",
    "\n",
    "            context = context[1:] + [stoi[c]]\n",
    "\n",
    "    \n",
    "    X = torch.tensor(X)\n",
    "    Y = torch.tensor(Y)\n",
    "\n",
    "\n",
    "    return X,Y"
   ]
  },
  {
   "cell_type": "code",
   "execution_count": 1028,
   "metadata": {},
   "outputs": [],
   "source": [
    "# X, Y = build_dataset(3,names)\n",
    "# print(X.shape)\n",
    "# X_embedd = embedding[X]\n",
    "# X_embedd.shape"
   ]
  },
  {
   "cell_type": "code",
   "execution_count": 1029,
   "metadata": {},
   "outputs": [],
   "source": [
    "import random\n",
    "random.shuffle(names)\n",
    "CONTEXT_SIZE = 3\n",
    "threshold_1 = int(0.8 * len(names))\n",
    "threshold_2 = int(0.9 * len(names))\n",
    "\n",
    "X_train, Y_train  = build_dataset(CONTEXT_SIZE, names[: threshold_1])\n",
    "X_dev, Y_dev  = build_dataset(CONTEXT_SIZE, names[threshold_1 : threshold_2])\n",
    "X_test, Y_test  = build_dataset(CONTEXT_SIZE, names[threshold_2:])\n"
   ]
  },
  {
   "cell_type": "code",
   "execution_count": 1030,
   "metadata": {},
   "outputs": [
    {
     "name": "stdout",
     "output_type": "stream",
     "text": [
      "52813\n",
      "torch.Size([351266, 3]) torch.Size([351266])\n",
      "torch.Size([43885, 3]) torch.Size([43885])\n",
      "torch.Size([44009, 3]) torch.Size([44009])\n"
     ]
    }
   ],
   "source": [
    "print(len(names))\n",
    "print(X_train.shape, Y_train.shape)\n",
    "print(X_dev.shape, Y_dev.shape)\n",
    "print(X_test.shape, Y_test.shape)\n"
   ]
  },
  {
   "cell_type": "code",
   "execution_count": 1031,
   "metadata": {},
   "outputs": [],
   "source": [
    "EMBEDDING_SIZE = 10\n",
    "embedding = torch.randn((len(chars), EMBEDDING_SIZE),requires_grad=True)\n",
    "w1 = torch.randn(( EMBEDDING_SIZE * CONTEXT_SIZE,200),requires_grad=True)\n",
    "b1 = torch.randn((200),requires_grad=True)\n",
    "w2 = torch.randn((200,27),requires_grad=True)\n",
    "b2 = torch.randn((27),requires_grad=True)\n",
    "\n",
    "parameters = [embedding,w1,b1,w2,b2]"
   ]
  },
  {
   "cell_type": "code",
   "execution_count": 1032,
   "metadata": {},
   "outputs": [],
   "source": [
    "# X_embedd = X_embedd.view(X_embedd.shape[0], X_embedd.shape[1] *X_embedd.shape[2] )\n",
    "# X_embedd.shape"
   ]
  },
  {
   "cell_type": "code",
   "execution_count": 1033,
   "metadata": {},
   "outputs": [],
   "source": [
    "def forward(input):\n",
    "    input = input.view(-1,input.shape[1] * input.shape[2] )\n",
    "    h =  torch.tanh(input @ w1 + b1)\n",
    "    o = h @ w2 + b2\n",
    "    # print(o.shape)\n",
    "    logits =   o\n",
    "    return logits"
   ]
  },
  {
   "cell_type": "code",
   "execution_count": 1034,
   "metadata": {},
   "outputs": [],
   "source": [
    "def back(loss,lr):\n",
    "\n",
    "    for p in parameters:\n",
    "        p.grad = None\n",
    "\n",
    "\n",
    "    loss.backward(retain_graph=True)\n",
    "\n",
    "    for p in parameters:\n",
    "        p.data +=   -lr * p.grad\n",
    "\n",
    "\n",
    "\n"
   ]
  },
  {
   "cell_type": "code",
   "execution_count": 1035,
   "metadata": {},
   "outputs": [],
   "source": [
    "def train_epoch(data,y, lr=0.1):\n",
    "\n",
    "    logits = forward(data)\n",
    "\n",
    "    ## Note: we see that we can't fully overfit the datast, cause in the dataset, \n",
    "    ## we keep mapping the ... to different characters in every word\n",
    "    # print('Prediction',logits.max(1)[1][:10])\n",
    "    # print('Label     ',Y[:10])\n",
    "\n",
    "    # This is equivalent to cross entropy loss \n",
    "    # nomalized_logits = torch.softmax(logits, dim=1)\n",
    "    # loss =  - torch.mean(torch.log(nomalized_logits[range(Y.shape[0]),Y]))\n",
    "\n",
    "\n",
    "    loss = F.cross_entropy(logits, y)\n",
    "    # print(l2.item() , loss.item())\n",
    "    back(loss,lr)\n",
    "    \n",
    "    return loss.item()"
   ]
  },
  {
   "cell_type": "code",
   "execution_count": 1036,
   "metadata": {},
   "outputs": [],
   "source": [
    "def generate_name():\n",
    "\n",
    "    w = ''\n",
    "    last_ch = [0]* 3\n",
    "    while True:\n",
    "\n",
    "        last_ch = torch.tensor(last_ch)\n",
    "\n",
    "        embed = embedding[last_ch]\n",
    "        embed = embed.unsqueeze(0)\n",
    "        # embed = embed.view(-1,6)\n",
    "\n",
    "        # print(embed.shape)\n",
    "        logits = forward(embed)\n",
    "        p = torch.softmax(logits, dim=1)\n",
    "\n",
    "\n",
    "\n",
    "        next_ch = torch.multinomial(p, num_samples=1, replacement=True).item()\n",
    "\n",
    "        last_ch = last_ch.tolist()\n",
    "        last_ch = last_ch[1:] + [next_ch]\n",
    "\n",
    "        w += itos[next_ch]\n",
    "\n",
    "        if next_ch == 0:\n",
    "            break\n",
    "\n",
    "    return w"
   ]
  },
  {
   "cell_type": "code",
   "execution_count": 1037,
   "metadata": {},
   "outputs": [],
   "source": [
    "def eval(input, target):\n",
    "    input = embedding[input]\n",
    "    logits = forward(input)\n",
    "    loss = F.cross_entropy(logits, target)\n",
    "    \n",
    "    return loss"
   ]
  },
  {
   "cell_type": "code",
   "execution_count": 1038,
   "metadata": {},
   "outputs": [],
   "source": [
    "def train_epoch(data,y, lr=0.1):\n",
    "\n",
    "    logits = forward(data)\n",
    "\n",
    "    ## Note: we see that we can't fully overfit the datast, cause in the dataset, \n",
    "    ## we keep mapping the ... to different characters in every word\n",
    "    # print('Prediction',logits.max(1)[1][:10])\n",
    "    # print('Label     ',Y[:10])\n",
    "\n",
    "    # This is equivalent to cross entropy loss \n",
    "    # nomalized_logits = torch.softmax(logits, dim=1)\n",
    "    # loss =  - torch.mean(torch.log(nomalized_logits[range(Y.shape[0]),Y]))\n",
    "\n",
    "\n",
    "    loss = F.cross_entropy(logits, y)\n",
    "    # print(l2.item() , loss.item())\n",
    "    back(loss,lr)\n",
    "    \n",
    "    return loss.item()"
   ]
  },
  {
   "cell_type": "code",
   "execution_count": 1039,
   "metadata": {},
   "outputs": [],
   "source": [
    "lrs = torch.linspace(-3,0,1000)\n",
    "lrs = 10**lrs"
   ]
  },
  {
   "cell_type": "code",
   "execution_count": 1040,
   "metadata": {},
   "outputs": [],
   "source": [
    "lri = []\n",
    "lossi = []\n",
    "steps = []"
   ]
  },
  {
   "cell_type": "code",
   "execution_count": 1041,
   "metadata": {},
   "outputs": [
    {
     "name": "stderr",
     "output_type": "stream",
     "text": [
      " 89%|████████▉ | 355027/400000 [04:15<00:33, 1356.20it/s]"
     ]
    }
   ],
   "source": [
    "l = 0.0\n",
    "EPOCHS = 400_000\n",
    "\n",
    "\n",
    "for i in tqdm(range(EPOCHS)):\n",
    "    \n",
    "    batch_indexes = torch.randint(0,X_train.shape[0], (256,))\n",
    "    \n",
    "    batch = embedding[X_train[batch_indexes]]\n",
    "    y = Y_train[batch_indexes]\n",
    "\n",
    "    lr = 0.1 if i < 200_000 else 0.01\n",
    "\n",
    "    # print(batch.shape, y.shape)\n",
    "    cur_l = train_epoch(batch,y,lr)\n",
    "\n",
    "    # l+= cur_l\n",
    "\n",
    "    # lri.append(lrs[i])\n",
    "    lossi.append(cur_l)\n",
    "    steps.append(i)\n",
    "\n",
    "\n",
    "    l = cur_l\n",
    "\n",
    "\n",
    "# l = torch.tensor(l)\n",
    "# print(l/ EPOCHS)\n",
    "\n",
    "print(l)"
   ]
  },
  {
   "cell_type": "code",
   "execution_count": null,
   "metadata": {},
   "outputs": [
    {
     "data": {
      "text/plain": [
       "[<matplotlib.lines.Line2D at 0x7f3a5bf61b70>]"
      ]
     },
     "execution_count": 1017,
     "metadata": {},
     "output_type": "execute_result"
    },
    {
     "data": {
      "image/png": "[encoded data removed]",
      "text/plain": [
       "<Figure size 640x480 with 1 Axes>"
      ]
     },
     "metadata": {},
     "output_type": "display_data"
    }
   ],
   "source": [
    "plt.plot(steps,lossi)"
   ]
  },
  {
   "cell_type": "code",
   "execution_count": null,
   "metadata": {},
   "outputs": [
    {
     "name": "stdout",
     "output_type": "stream",
     "text": [
      "tensor(1.9990, grad_fn=<NllLossBackward0>)\n",
      "tensor(2.0218, grad_fn=<NllLossBackward0>)\n"
     ]
    }
   ],
   "source": [
    "print(eval(X_train, Y_train))\n",
    "\n",
    "print(eval(X_dev, Y_dev))"
   ]
  },
  {
   "cell_type": "code",
   "execution_count": null,
   "metadata": {},
   "outputs": [
    {
     "name": "stdout",
     "output_type": "stream",
     "text": [
      "ilrathiamamaneiq.\n",
      "mukaish.\n",
      "albghaisaizbifi.\n",
      "rabal.\n",
      "molaaban.\n"
     ]
    }
   ],
   "source": [
    "for i in range (5):\n",
    "    print(generate_name())"
   ]
  },
  {
   "cell_type": "code",
   "execution_count": 1020,
   "metadata": {},
   "outputs": [
    {
     "data": {
      "text/plain": [
       "11897"
      ]
     },
     "execution_count": 1020,
     "metadata": {},
     "output_type": "execute_result"
    }
   ],
   "source": [
    "## Number of params in the model\n",
    "sum(p.nelement() for p in parameters)"
   ]
  },
  {
   "cell_type": "code",
   "execution_count": 1015,
   "metadata": {},
   "outputs": [
    {
     "data": {
      "image/png": "[encoded data removed]",
      "text/plain": [
       "<Figure size 800x800 with 1 Axes>"
      ]
     },
     "metadata": {},
     "output_type": "display_data"
    }
   ],
   "source": [
    "# visualize dimensions 0 and 1 of the embedding matrix C for all characters\n",
    "plt.figure(figsize=(8,8))\n",
    "plt.scatter(embedding[:,0].data, embedding[:,1].data, s=200)\n",
    "for i in range(embedding.shape[0]):\n",
    "    plt.text(embedding[i,0].item(), embedding[i,1].item(), itos[i], ha=\"center\", va=\"center\", color='white')\n",
    "plt.grid('minor')\n"
   ]
  },
  {
   "cell_type": "code",
   "execution_count": null,
   "metadata": {},
   "outputs": [],
   "source": []
  }
 ],
 "metadata": {
  "kernelspec": {
   "display_name": "Python 3.10.6 ('dl')",
   "language": "python",
   "name": "python3"
  },
  "language_info": {
   "codemirror_mode": {
    "name": "ipython",
    "version": 3
   },
   "file_extension": ".py",
   "mimetype": "text/x-python",
   "name": "python",
   "nbconvert_exporter": "python",
   "pygments_lexer": "ipython3",
   "version": "3.10.6"
  },
  "orig_nbformat": 4,
  "vscode": {
   "interpreter": {
    "hash": "64b178eb49eecde524ce545b08b9f340bede480db49f6e9a9fc4b812ce5e0df6"
   }
  }
 },
 "nbformat": 4,
 "nbformat_minor": 2
}
