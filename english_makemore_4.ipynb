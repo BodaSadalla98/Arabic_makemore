{
 "cells": [
  {
   "attachments": {},
   "cell_type": "markdown",
   "metadata": {},
   "source": [
    "# Deep Dive into Backprop backprop ninja\n"
   ]
  },
  {
   "attachments": {},
   "cell_type": "markdown",
   "metadata": {},
   "source": [
    "## Imports and setup\n"
   ]
  },
  {
   "cell_type": "code",
   "execution_count": 171,
   "metadata": {},
   "outputs": [
    {
     "name": "stdout",
     "output_type": "stream",
     "text": [
      "{'.': 0, '-': 1, 'a': 2, 'b': 3, 'c': 4, 'd': 5, 'e': 6, 'f': 7, 'g': 8, 'h': 9, 'i': 10, 'j': 11, 'k': 12, 'l': 13, 'm': 14, 'n': 15, 'o': 16, 'p': 17, 'q': 18, 'r': 19, 's': 20, 't': 21, 'u': 22, 'v': 23, 'w': 24, 'y': 25, 'z': 26}\n",
      "{0: '.', 1: '-', 2: 'a', 3: 'b', 4: 'c', 5: 'd', 6: 'e', 7: 'f', 8: 'g', 9: 'h', 10: 'i', 11: 'j', 12: 'k', 13: 'l', 14: 'm', 15: 'n', 16: 'o', 17: 'p', 18: 'q', 19: 'r', 20: 's', 21: 't', 22: 'u', 23: 'v', 24: 'w', 25: 'y', 26: 'z'}\n",
      "['-', 'a', 'b', 'c', 'd', 'e', 'f', 'g', 'h', 'i', 'j', 'k', 'l', 'm', 'n', 'o', 'p', 'q', 'r', 's', 't', 'u', 'v', 'w', 'y', 'z']\n"
     ]
    }
   ],
   "source": [
    "### Imports and setup\n",
    "import torch\n",
    "import torch.nn.functional as F \n",
    "import matplotlib.pyplot as plt \n",
    "from tqdm import tqdm\n",
    "%matplotlib inline\n",
    "with open('data/combined_english_names_cleaned.txt','r') as f:\n",
    "# with open('data/combined_arabic_names_cleaned.txt','r') as f:\n",
    "    names = [x.strip().lower() for x in f.readlines()]\n",
    "\n",
    "names[:10]\n",
    "len(names)\n",
    "CONTEXT_SIZE = 3\n",
    "\n",
    "chars = ['.'] + sorted(list(set(''.join(names))))\n",
    "stoi = { c:i for i,c in enumerate(chars)}\n",
    "itos = {i:c for c,i in stoi.items()}\n",
    "print(stoi)\n",
    "print(itos)\n",
    "print( sorted(list(set(''.join(names)))))\n",
    "\n",
    "def build_dataset(names, context_size, p=False):\n",
    "    X = []\n",
    "    Y = []\n",
    "\n",
    "    for name in names:\n",
    "\n",
    "        if p :\n",
    "            print(name)\n",
    "        context = [stoi['.']] * context_size\n",
    "\n",
    "        for c in name + '.':\n",
    "            X.append(context)\n",
    "            Y.append(stoi[c])\n",
    "\n",
    "            if p:\n",
    "                print( ''.join(itos[x] for x in context) ,f' --> {c}')\n",
    "\n",
    "            context = context[1:] + [stoi[c]]\n",
    "\n",
    "    \n",
    "    X = torch.tensor(X)\n",
    "    Y = torch.tensor(Y)\n",
    "\n",
    "\n",
    "    return X,Y\n",
    "## MLP Setup\n",
    "\n",
    "\n",
    "VOCAB_SIZE = len(chars)\n",
    "EPS  = 1e-5\n",
    "n1 = int(0.8 * len(names))\n",
    "n2 = int(0.9 * len(names))\n",
    "x_train, y_train = build_dataset( names[:n1], CONTEXT_SIZE )\n",
    "x_val, y_val = build_dataset( names[n1:n2], CONTEXT_SIZE )\n",
    "x_test, y_test = build_dataset( names[n2:], CONTEXT_SIZE )\n"
   ]
  },
  {
   "cell_type": "code",
   "execution_count": 172,
   "metadata": {},
   "outputs": [],
   "source": [
    "# Comparing gradients\n",
    "\n",
    "def compare(s, dt, t):\n",
    "    exact = torch.all(dt == t.grad).item()\n",
    "    approx = torch.allclose(dt, t.grad)\n",
    "    max_diff = (dt - t.grad).abs().max().item()\n",
    "\n",
    "    print(f'{s:15s} | exact: {str(exact):5s} | approximate: {str(approx):5s} | maxdiff: {max_diff}')\n"
   ]
  },
  {
   "cell_type": "code",
   "execution_count": 173,
   "metadata": {},
   "outputs": [
    {
     "name": "stdout",
     "output_type": "stream",
     "text": [
      "4137\n"
     ]
    }
   ],
   "source": [
    "EMBEDDING_SIZE = 10\n",
    "HIDDEN_SIZE = 64\n",
    "\n",
    "\n",
    "C = torch.randn((VOCAB_SIZE, EMBEDDING_SIZE))\n",
    "\n",
    "# Layer 1 \n",
    "W1 = torch.randn(( EMBEDDING_SIZE * CONTEXT_SIZE,HIDDEN_SIZE)) * (5/3) / ( EMBEDDING_SIZE * CONTEXT_SIZE)**0.5\n",
    "b1 = torch.randn((HIDDEN_SIZE)) * 0.1\n",
    "\n",
    "# Layer 2\n",
    "W2 = torch.randn((HIDDEN_SIZE,VOCAB_SIZE)) * (5/3) / (HIDDEN_SIZE)**0.5\n",
    "b2 = torch.randn((VOCAB_SIZE)) * 0.1\n",
    "\n",
    "# Batch Norm\n",
    "bngain = torch.ones((1,HIDDEN_SIZE))\n",
    "bnbias = torch.zeros((1,HIDDEN_SIZE))\n",
    "\n",
    "bnmean_running = torch.zeros((1,HIDDEN_SIZE))\n",
    "bnstd_running = torch.ones((1,HIDDEN_SIZE))\n",
    "\n",
    "\n",
    "parameters = [C,W1,b1,W2,b2, bnbias,bngain]\n",
    "print(sum(p.nelement() for p in parameters)) # number of parameters in total\n",
    "for p in parameters:\n",
    "  p.requires_grad = True"
   ]
  },
  {
   "cell_type": "code",
   "execution_count": 174,
   "metadata": {},
   "outputs": [],
   "source": [
    "\n",
    "batch_size = 32\n",
    "n = batch_size # a shorter variable also, for convenience\n",
    "# construct a minibatch\n",
    "ix = torch.randint(0, x_train.shape[0], (batch_size,))\n",
    "Xb, Yb = x_train[ix], y_train[ix] # batch X,Y"
   ]
  },
  {
   "cell_type": "code",
   "execution_count": 175,
   "metadata": {},
   "outputs": [
    {
     "data": {
      "text/plain": [
       "tensor(3.5028, grad_fn=<NegBackward0>)"
      ]
     },
     "execution_count": 175,
     "metadata": {},
     "output_type": "execute_result"
    }
   ],
   "source": [
    "# forward pass, \"chunkated\" into smaller steps that are possible to backward one at a time\n",
    "\n",
    "emb = C[Xb] # embed the characters into vectors\n",
    "embcat = emb.view(emb.shape[0], -1) # concatenate the vectors\n",
    "# Linear layer 1\n",
    "hprebn = embcat @ W1 + b1 # hidden layer pre-activation\n",
    "# BatchNorm layer\n",
    "bnmeani = 1/n*hprebn.sum(0, keepdim=True)\n",
    "bndiff = hprebn - bnmeani\n",
    "\n",
    "bndiff2 = bndiff**2\n",
    "bnvar = 1/(n-1)*(bndiff2).sum(0, keepdim=True) # note: Bessel's correction (dividing by n-1, not n)\n",
    "bnvar_inv = (bnvar + 1e-5)**-0.5\n",
    "bnraw = bndiff * bnvar_inv\n",
    "hpreact = bngain * bnraw + bnbias\n",
    "# Non-linearity\n",
    "h = torch.tanh(hpreact) # hidden layer\n",
    "# Linear layer 2\n",
    "logits = h @ W2 + b2 # output layer\n",
    "# cross entropy loss (same as F.cross_entropy(logits, Yb))\n",
    "logit_maxes = logits.max(1, keepdim=True).values\n",
    "norm_logits = logits - logit_maxes # subtract max for numerical stability\n",
    "counts = norm_logits.exp()\n",
    "counts_sum = counts.sum(1, keepdims=True)\n",
    "counts_sum_inv = counts_sum**-1 # if I use (1.0 / counts_sum) instead then I can't get backprop to be bit exact...\n",
    "probs = counts * counts_sum_inv\n",
    "logprobs = probs.log()\n",
    "loss = -logprobs[range(n), Yb].mean()\n",
    "\n",
    "# PyTorch backward pass\n",
    "for p in parameters:\n",
    "  p.grad = None\n",
    "for t in [logprobs, probs, counts, counts_sum, counts_sum_inv, # afaik there is no cleaner way\n",
    "          norm_logits, logit_maxes, logits, h, hpreact, bnraw,\n",
    "         bnvar_inv, bnvar, bndiff2, bndiff, hprebn, bnmeani,\n",
    "         embcat, emb]:\n",
    "  t.retain_grad()\n",
    "loss.backward()\n",
    "loss"
   ]
  },
  {
   "cell_type": "code",
   "execution_count": 176,
   "metadata": {},
   "outputs": [
    {
     "name": "stdout",
     "output_type": "stream",
     "text": [
      "torch.Size([32])\n",
      "torch.Size([32])\n",
      "logits          | exact: False | approximate: True  | maxdiff: 5.122274160385132e-09\n"
     ]
    },
    {
     "data": {
      "text/plain": [
       "(torch.Size([32]), torch.Size([32, 27]), torch.Size([32, 27]))"
      ]
     },
     "execution_count": 176,
     "metadata": {},
     "output_type": "execute_result"
    }
   ],
   "source": [
    "a = - (torch.exp(logits).sum(1) ) \n",
    "print(a.shape)\n",
    "p = F.softmax(logits,1)\n",
    "# p = torch.exp(logits) /  torch.exp(logits).sum(1, keepdims=True)\n",
    "dll = p\n",
    "print(dll[range(dll.shape[0]),Yb].shape)\n",
    "dll[range(dll.shape[0]),Yb] = p[range(dll.shape[0]),Yb] -1 \n",
    "dll /= dll.shape[0]\n",
    "compare('logits', dll, logits)\n",
    "Yb.shape, logits.shape, dll.shape\n"
   ]
  },
  {
   "cell_type": "code",
   "execution_count": 177,
   "metadata": {},
   "outputs": [
    {
     "name": "stdout",
     "output_type": "stream",
     "text": [
      "logprobs        | exact: True  | approximate: True  | maxdiff: 0.0\n",
      "probs           | exact: True  | approximate: True  | maxdiff: 0.0\n",
      "counts_sum_inv  | exact: True  | approximate: True  | maxdiff: 0.0\n",
      "counts_sum      | exact: True  | approximate: True  | maxdiff: 0.0\n",
      "counts          | exact: True  | approximate: True  | maxdiff: 0.0\n",
      "norm_logits     | exact: True  | approximate: True  | maxdiff: 0.0\n",
      "logit_maxes     | exact: True  | approximate: True  | maxdiff: 0.0\n",
      "logits          | exact: True  | approximate: True  | maxdiff: 0.0\n",
      "h               | exact: True  | approximate: True  | maxdiff: 0.0\n",
      "W2              | exact: True  | approximate: True  | maxdiff: 0.0\n",
      "b2              | exact: True  | approximate: True  | maxdiff: 0.0\n",
      "hpreact         | exact: False | approximate: True  | maxdiff: 1.862645149230957e-09\n",
      "bngain          | exact: False | approximate: True  | maxdiff: 6.51925802230835e-09\n",
      "bnbias          | exact: False | approximate: True  | maxdiff: 7.450580596923828e-09\n",
      "bnraw           | exact: False | approximate: True  | maxdiff: 1.862645149230957e-09\n",
      "bnvar_inv       | exact: False | approximate: True  | maxdiff: 4.6566128730773926e-09\n",
      "bnvar           | exact: False | approximate: True  | maxdiff: 1.862645149230957e-09\n",
      "bndiff2         | exact: False | approximate: True  | maxdiff: 5.820766091346741e-11\n",
      "bndiff          | exact: False | approximate: True  | maxdiff: 1.862645149230957e-09\n",
      "bnmeani         | exact: False | approximate: True  | maxdiff: 7.450580596923828e-09\n",
      "hprebn          | exact: False | approximate: True  | maxdiff: 1.862645149230957e-09\n",
      "embcat          | exact: False | approximate: True  | maxdiff: 7.450580596923828e-09\n",
      "W1              | exact: False | approximate: True  | maxdiff: 9.313225746154785e-09\n",
      "b1              | exact: False | approximate: True  | maxdiff: 7.2177499532699585e-09\n",
      "emb             | exact: False | approximate: True  | maxdiff: 7.450580596923828e-09\n",
      "C               | exact: False | approximate: True  | maxdiff: 1.4901161193847656e-08\n"
     ]
    }
   ],
   "source": [
    "dlogprobs =  torch.zeros_like(logprobs)\n",
    "dlogprobs[range(n),Yb] = -1/logprobs.shape[0]\n",
    "\n",
    "dprobs = dlogprobs / probs\n",
    "\n",
    "## This is tricky, because of the sizes aren't the same and the broadcasting the happens\n",
    "dcounts_sum_inv = (dprobs  * counts).sum(1, keepdim=True)\n",
    "\n",
    "dcounts_sum = -counts_sum**-2 * dcounts_sum_inv\n",
    "dcounts =  (dprobs  * counts_sum_inv) + 1 * dcounts_sum\n",
    "dnorm_logits = norm_logits.exp() * dcounts\n",
    "dlogit_maxes = -1 * dnorm_logits.sum(1, keepdim=True)\n",
    "\n",
    "## two ways to calc dlogits\n",
    "# id = logits.max(1, keepdim=True).indices\n",
    "# t = torch.zeros_like(logits)\n",
    "# t[id] = 1\n",
    "# dlogits = dnorm_logits + t * dlogit_maxes\n",
    "dlogits = dnorm_logits +  F.one_hot(logits.max(1).indices, num_classes=logits.shape[1]) * dlogit_maxes\n",
    "\n",
    "dh = dlogits @ W2.T\n",
    "dW2 = h.T @ dlogits\n",
    "db2 = dlogits.sum(0,keepdim=True)\n",
    "dhpreact = (1.0 - torch.pow(h,2)) * dh\n",
    "# dbngain = dhpreact.sum(0, keepdim=True) * bnraw.sum(0, keepdim=True) \n",
    "\n",
    "dbngain = (dhpreact * bnraw).sum(0, keepdim=True)\n",
    " \n",
    "dbnbias = dhpreact.sum(0,keepdim=True)\n",
    "dbnraw = bngain * dhpreact\n",
    "\n",
    "dbnvar_inv = (dbnraw * bndiff).sum(0,keepdim=True)\n",
    "dbndiff = bnvar_inv * dbnraw\n",
    "dbnvar = -.5*(bnvar + 1e-5)**-1.5 * dbnvar_inv\n",
    "\n",
    "\n",
    "dbndiff2 = torch.ones_like(bndiff2) * (1/(n-1)) * dbnvar\n",
    "dbndiff += 2*bndiff * dbndiff2\n",
    "\n",
    "\n",
    "dbnmeani = dbndiff.sum(0, keepdim=True) * -1\n",
    "dhprebn = dbndiff  + dbnmeani  * torch.ones_like(hprebn) * (1/(n)) \n",
    "\n",
    "dembcat = dhprebn @ W1.T\n",
    "dW1 = embcat.T @ dhprebn\n",
    "db1 = dhprebn.sum(0,keepdim=True)\n",
    "\n",
    "\n",
    "\n",
    "demb = dembcat.view(emb.shape)\n",
    "dC = torch.zeros_like(C)\n",
    "\n",
    "for i in range(demb.shape[0]):\n",
    "    for j in range(demb.shape[1]):\n",
    "        ix = Xb[i][j]\n",
    "        dC[ix] += demb[i][j]\n",
    "\n",
    "compare('logprobs', dlogprobs, logprobs)\n",
    "compare('probs', dprobs, probs)\n",
    "compare('counts_sum_inv', dcounts_sum_inv, counts_sum_inv)\n",
    "compare('counts_sum', dcounts_sum, counts_sum)\n",
    "compare('counts', dcounts, counts)\n",
    "compare('norm_logits', dnorm_logits, norm_logits)\n",
    "compare('logit_maxes', dlogit_maxes, logit_maxes)\n",
    "compare('logits', dlogits, logits)\n",
    "compare('h', dh, h)\n",
    "compare('W2', dW2, W2)\n",
    "compare('b2', db2, b2)\n",
    "compare('hpreact', dhpreact, hpreact)\n",
    "compare('bngain', dbngain, bngain)\n",
    "compare('bnbias', dbnbias, bnbias)\n",
    "compare('bnraw', dbnraw, bnraw)\n",
    "compare('bnvar_inv', dbnvar_inv, bnvar_inv)\n",
    "compare('bnvar', dbnvar, bnvar)\n",
    "compare('bndiff2', dbndiff2, bndiff2)\n",
    "compare('bndiff', dbndiff, bndiff)\n",
    "compare('bnmeani', dbnmeani, bnmeani)\n",
    "compare('hprebn', dhprebn, hprebn)\n",
    "compare('embcat', dembcat, embcat)\n",
    "compare('W1', dW1, W1)\n",
    "compare('b1', db1, b1)\n",
    "compare('emb', demb, emb)\n",
    "compare('C', dC, C)"
   ]
  },
  {
   "cell_type": "code",
   "execution_count": null,
   "metadata": {},
   "outputs": [],
   "source": []
  }
 ],
 "metadata": {
  "kernelspec": {
   "display_name": "dl",
   "language": "python",
   "name": "python3"
  },
  "language_info": {
   "codemirror_mode": {
    "name": "ipython",
    "version": 3
   },
   "file_extension": ".py",
   "mimetype": "text/x-python",
   "name": "python",
   "nbconvert_exporter": "python",
   "pygments_lexer": "ipython3",
   "version": "3.10.6"
  },
  "orig_nbformat": 4,
  "vscode": {
   "interpreter": {
    "hash": "64b178eb49eecde524ce545b08b9f340bede480db49f6e9a9fc4b812ce5e0df6"
   }
  }
 },
 "nbformat": 4,
 "nbformat_minor": 2
}
