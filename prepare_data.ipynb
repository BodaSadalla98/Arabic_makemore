{
 "cells": [
  {
   "cell_type": "code",
   "execution_count": 1,
   "metadata": {},
   "outputs": [],
   "source": [
    "with open('data/no_diac_names.txt', 'r') as f:\n",
    "    n1 = [x.strip() for x in f.readlines()]"
   ]
  },
  {
   "cell_type": "code",
   "execution_count": 2,
   "metadata": {},
   "outputs": [],
   "source": [
    "import pandas as pd"
   ]
  },
  {
   "cell_type": "code",
   "execution_count": 3,
   "metadata": {},
   "outputs": [],
   "source": [
    "n2 = pd.concat([pd.read_csv('data/females_ar.csv').Name, pd.read_csv('data/males_ar.csv').Name,pd.read_csv('data/Arabic_names.csv').Name]) "
   ]
  },
  {
   "cell_type": "code",
   "execution_count": 4,
   "metadata": {},
   "outputs": [],
   "source": [
    "n2 = list(n2)"
   ]
  },
  {
   "cell_type": "code",
   "execution_count": 5,
   "metadata": {},
   "outputs": [],
   "source": [
    "n1.extend(n2)"
   ]
  },
  {
   "cell_type": "code",
   "execution_count": 6,
   "metadata": {},
   "outputs": [
    {
     "name": "stdout",
     "output_type": "stream",
     "text": [
      "49283\n"
     ]
    }
   ],
   "source": [
    "print(len(n1))"
   ]
  },
  {
   "cell_type": "code",
   "execution_count": 7,
   "metadata": {},
   "outputs": [],
   "source": [
    "df = pd.DataFrame(n1)"
   ]
  },
  {
   "cell_type": "code",
   "execution_count": 8,
   "metadata": {},
   "outputs": [],
   "source": [
    "df.to_excel('combined_arabic_names.xlsx')"
   ]
  },
  {
   "cell_type": "code",
   "execution_count": 30,
   "metadata": {},
   "outputs": [],
   "source": [
    "with open('combined_arabic_names.txt','w') as f:\n",
    "    for l in n1:\n",
    "        f.write(l + '\\n')"
   ]
  },
  {
   "cell_type": "code",
   "execution_count": 17,
   "metadata": {},
   "outputs": [],
   "source": [
    "\n",
    "from typing import Text\n",
    "import http.client\n",
    "import json\n",
    "import re\n",
    "import time\n",
    "# arabic language code \n",
    "arabic = 'ar-t-i0-und'\n",
    "english = 'en-t-i0-und'\n",
    "\n",
    "#makes https get request and get the response\n",
    "def trans_request(input, itc):\n",
    "    '''\n",
    "        input: the Arabizi word\n",
    "        itc: the language code \n",
    "    '''\n",
    "    conn = http.client.HTTPSConnection('inputtools.google.com')\n",
    "    conn.request('GET', '/request?text=' + input + '&itc=' + itc )\n",
    "    res = conn.getresponse()\n",
    "    return res\n",
    "\n",
    "def driver(input, itc):\n",
    "    output = ''\n",
    "    if ' ' in input:\n",
    "        input = input.split(' ')\n",
    "        for i in input:\n",
    "            res = trans_request(input = i, itc = itc)\n",
    "            res = res.read()\n",
    "            if i==0:\n",
    "                output = str(res, encoding = 'utf-8')[14+4+len(i):-31]\n",
    "            else:\n",
    "                output = output + ' ' + str(res, encoding = 'utf-8')[14+4+len(i):-31]\n",
    "                output = output.rstrip()\n",
    "    else:\n",
    "        res = trans_request(input = input, itc = itc)\n",
    "        res = res.read()\n",
    "        output = str(res, encoding = 'utf-8')[14+4+len(input):-31]\n",
    "    return output"
   ]
  },
  {
   "cell_type": "code",
   "execution_count": 19,
   "metadata": {},
   "outputs": [
    {
     "ename": "UnicodeEncodeError",
     "evalue": "'ascii' codec can't encode characters in position 18-24: ordinal not in range(128)",
     "output_type": "error",
     "traceback": [
      "\u001b[0;31m---------------------------------------------------------------------------\u001b[0m",
      "\u001b[0;31mUnicodeEncodeError\u001b[0m                        Traceback (most recent call last)",
      "\u001b[1;32m/data/boda/Arabic_makemore/prepare_data.ipynb Cell 10\u001b[0m in \u001b[0;36m<cell line: 1>\u001b[0;34m()\u001b[0m\n\u001b[0;32m----> <a href='vscode-notebook-cell:/data/boda/Arabic_makemore/prepare_data.ipynb#X12sZmlsZQ%3D%3D?line=0'>1</a>\u001b[0m \u001b[39mprint\u001b[39m(driver(\u001b[39minput\u001b[39;49m\u001b[39m=\u001b[39;49m \u001b[39m'\u001b[39;49m\u001b[39mالجوهرة\u001b[39;49m\u001b[39m'\u001b[39;49m, itc\u001b[39m=\u001b[39;49marabic))\n",
      "\u001b[1;32m/data/boda/Arabic_makemore/prepare_data.ipynb Cell 10\u001b[0m in \u001b[0;36mdriver\u001b[0;34m(input, itc)\u001b[0m\n\u001b[1;32m     <a href='vscode-notebook-cell:/data/boda/Arabic_makemore/prepare_data.ipynb#X12sZmlsZQ%3D%3D?line=31'>32</a>\u001b[0m             output \u001b[39m=\u001b[39m output\u001b[39m.\u001b[39mrstrip()\n\u001b[1;32m     <a href='vscode-notebook-cell:/data/boda/Arabic_makemore/prepare_data.ipynb#X12sZmlsZQ%3D%3D?line=32'>33</a>\u001b[0m \u001b[39melse\u001b[39;00m:\n\u001b[0;32m---> <a href='vscode-notebook-cell:/data/boda/Arabic_makemore/prepare_data.ipynb#X12sZmlsZQ%3D%3D?line=33'>34</a>\u001b[0m     res \u001b[39m=\u001b[39m trans_request(\u001b[39minput\u001b[39;49m \u001b[39m=\u001b[39;49m \u001b[39minput\u001b[39;49m, itc \u001b[39m=\u001b[39;49m itc)\n\u001b[1;32m     <a href='vscode-notebook-cell:/data/boda/Arabic_makemore/prepare_data.ipynb#X12sZmlsZQ%3D%3D?line=34'>35</a>\u001b[0m     res \u001b[39m=\u001b[39m res\u001b[39m.\u001b[39mread()\n\u001b[1;32m     <a href='vscode-notebook-cell:/data/boda/Arabic_makemore/prepare_data.ipynb#X12sZmlsZQ%3D%3D?line=35'>36</a>\u001b[0m     output \u001b[39m=\u001b[39m \u001b[39mstr\u001b[39m(res, encoding \u001b[39m=\u001b[39m \u001b[39m'\u001b[39m\u001b[39mutf-8\u001b[39m\u001b[39m'\u001b[39m)[\u001b[39m14\u001b[39m\u001b[39m+\u001b[39m\u001b[39m4\u001b[39m\u001b[39m+\u001b[39m\u001b[39mlen\u001b[39m(\u001b[39minput\u001b[39m):\u001b[39m-\u001b[39m\u001b[39m31\u001b[39m]\n",
      "\u001b[1;32m/data/boda/Arabic_makemore/prepare_data.ipynb Cell 10\u001b[0m in \u001b[0;36mtrans_request\u001b[0;34m(input, itc)\u001b[0m\n\u001b[1;32m     <a href='vscode-notebook-cell:/data/boda/Arabic_makemore/prepare_data.ipynb#X12sZmlsZQ%3D%3D?line=11'>12</a>\u001b[0m \u001b[39m'''\u001b[39;00m\n\u001b[1;32m     <a href='vscode-notebook-cell:/data/boda/Arabic_makemore/prepare_data.ipynb#X12sZmlsZQ%3D%3D?line=12'>13</a>\u001b[0m \u001b[39m    input: the Arabizi word\u001b[39;00m\n\u001b[1;32m     <a href='vscode-notebook-cell:/data/boda/Arabic_makemore/prepare_data.ipynb#X12sZmlsZQ%3D%3D?line=13'>14</a>\u001b[0m \u001b[39m    itc: the language code \u001b[39;00m\n\u001b[1;32m     <a href='vscode-notebook-cell:/data/boda/Arabic_makemore/prepare_data.ipynb#X12sZmlsZQ%3D%3D?line=14'>15</a>\u001b[0m \u001b[39m'''\u001b[39;00m\n\u001b[1;32m     <a href='vscode-notebook-cell:/data/boda/Arabic_makemore/prepare_data.ipynb#X12sZmlsZQ%3D%3D?line=15'>16</a>\u001b[0m conn \u001b[39m=\u001b[39m http\u001b[39m.\u001b[39mclient\u001b[39m.\u001b[39mHTTPSConnection(\u001b[39m'\u001b[39m\u001b[39minputtools.google.com\u001b[39m\u001b[39m'\u001b[39m)\n\u001b[0;32m---> <a href='vscode-notebook-cell:/data/boda/Arabic_makemore/prepare_data.ipynb#X12sZmlsZQ%3D%3D?line=16'>17</a>\u001b[0m conn\u001b[39m.\u001b[39;49mrequest(\u001b[39m'\u001b[39;49m\u001b[39mGET\u001b[39;49m\u001b[39m'\u001b[39;49m, \u001b[39m'\u001b[39;49m\u001b[39m/request?text=\u001b[39;49m\u001b[39m'\u001b[39;49m \u001b[39m+\u001b[39;49m \u001b[39minput\u001b[39;49m \u001b[39m+\u001b[39;49m \u001b[39m'\u001b[39;49m\u001b[39m&itc=\u001b[39;49m\u001b[39m'\u001b[39;49m \u001b[39m+\u001b[39;49m itc )\n\u001b[1;32m     <a href='vscode-notebook-cell:/data/boda/Arabic_makemore/prepare_data.ipynb#X12sZmlsZQ%3D%3D?line=17'>18</a>\u001b[0m res \u001b[39m=\u001b[39m conn\u001b[39m.\u001b[39mgetresponse()\n\u001b[1;32m     <a href='vscode-notebook-cell:/data/boda/Arabic_makemore/prepare_data.ipynb#X12sZmlsZQ%3D%3D?line=18'>19</a>\u001b[0m \u001b[39mreturn\u001b[39;00m res\n",
      "File \u001b[0;32m~/anaconda3/envs/dl/lib/python3.10/http/client.py:1282\u001b[0m, in \u001b[0;36mHTTPConnection.request\u001b[0;34m(self, method, url, body, headers, encode_chunked)\u001b[0m\n\u001b[1;32m   1279\u001b[0m \u001b[39mdef\u001b[39;00m \u001b[39mrequest\u001b[39m(\u001b[39mself\u001b[39m, method, url, body\u001b[39m=\u001b[39m\u001b[39mNone\u001b[39;00m, headers\u001b[39m=\u001b[39m{}, \u001b[39m*\u001b[39m,\n\u001b[1;32m   1280\u001b[0m             encode_chunked\u001b[39m=\u001b[39m\u001b[39mFalse\u001b[39;00m):\n\u001b[1;32m   1281\u001b[0m     \u001b[39m\"\"\"Send a complete request to the server.\"\"\"\u001b[39;00m\n\u001b[0;32m-> 1282\u001b[0m     \u001b[39mself\u001b[39;49m\u001b[39m.\u001b[39;49m_send_request(method, url, body, headers, encode_chunked)\n",
      "File \u001b[0;32m~/anaconda3/envs/dl/lib/python3.10/http/client.py:1293\u001b[0m, in \u001b[0;36mHTTPConnection._send_request\u001b[0;34m(self, method, url, body, headers, encode_chunked)\u001b[0m\n\u001b[1;32m   1290\u001b[0m \u001b[39mif\u001b[39;00m \u001b[39m'\u001b[39m\u001b[39maccept-encoding\u001b[39m\u001b[39m'\u001b[39m \u001b[39min\u001b[39;00m header_names:\n\u001b[1;32m   1291\u001b[0m     skips[\u001b[39m'\u001b[39m\u001b[39mskip_accept_encoding\u001b[39m\u001b[39m'\u001b[39m] \u001b[39m=\u001b[39m \u001b[39m1\u001b[39m\n\u001b[0;32m-> 1293\u001b[0m \u001b[39mself\u001b[39;49m\u001b[39m.\u001b[39;49mputrequest(method, url, \u001b[39m*\u001b[39;49m\u001b[39m*\u001b[39;49mskips)\n\u001b[1;32m   1295\u001b[0m \u001b[39m# chunked encoding will happen if HTTP/1.1 is used and either\u001b[39;00m\n\u001b[1;32m   1296\u001b[0m \u001b[39m# the caller passes encode_chunked=True or the following\u001b[39;00m\n\u001b[1;32m   1297\u001b[0m \u001b[39m# conditions hold:\u001b[39;00m\n\u001b[1;32m   1298\u001b[0m \u001b[39m# 1. content-length has not been explicitly set\u001b[39;00m\n\u001b[1;32m   1299\u001b[0m \u001b[39m# 2. the body is a file or iterable, but not a str or bytes-like\u001b[39;00m\n\u001b[1;32m   1300\u001b[0m \u001b[39m# 3. Transfer-Encoding has NOT been explicitly set by the caller\u001b[39;00m\n\u001b[1;32m   1302\u001b[0m \u001b[39mif\u001b[39;00m \u001b[39m'\u001b[39m\u001b[39mcontent-length\u001b[39m\u001b[39m'\u001b[39m \u001b[39mnot\u001b[39;00m \u001b[39min\u001b[39;00m header_names:\n\u001b[1;32m   1303\u001b[0m     \u001b[39m# only chunk body if not explicitly set for backwards\u001b[39;00m\n\u001b[1;32m   1304\u001b[0m     \u001b[39m# compatibility, assuming the client code is already handling the\u001b[39;00m\n\u001b[1;32m   1305\u001b[0m     \u001b[39m# chunking\u001b[39;00m\n",
      "File \u001b[0;32m~/anaconda3/envs/dl/lib/python3.10/http/client.py:1131\u001b[0m, in \u001b[0;36mHTTPConnection.putrequest\u001b[0;34m(self, method, url, skip_host, skip_accept_encoding)\u001b[0m\n\u001b[1;32m   1127\u001b[0m \u001b[39mself\u001b[39m\u001b[39m.\u001b[39m_validate_path(url)\n\u001b[1;32m   1129\u001b[0m request \u001b[39m=\u001b[39m \u001b[39m'\u001b[39m\u001b[39m%s\u001b[39;00m\u001b[39m \u001b[39m\u001b[39m%s\u001b[39;00m\u001b[39m \u001b[39m\u001b[39m%s\u001b[39;00m\u001b[39m'\u001b[39m \u001b[39m%\u001b[39m (method, url, \u001b[39mself\u001b[39m\u001b[39m.\u001b[39m_http_vsn_str)\n\u001b[0;32m-> 1131\u001b[0m \u001b[39mself\u001b[39m\u001b[39m.\u001b[39m_output(\u001b[39mself\u001b[39;49m\u001b[39m.\u001b[39;49m_encode_request(request))\n\u001b[1;32m   1133\u001b[0m \u001b[39mif\u001b[39;00m \u001b[39mself\u001b[39m\u001b[39m.\u001b[39m_http_vsn \u001b[39m==\u001b[39m \u001b[39m11\u001b[39m:\n\u001b[1;32m   1134\u001b[0m     \u001b[39m# Issue some standard headers for better HTTP/1.1 compliance\u001b[39;00m\n\u001b[1;32m   1136\u001b[0m     \u001b[39mif\u001b[39;00m \u001b[39mnot\u001b[39;00m skip_host:\n\u001b[1;32m   1137\u001b[0m         \u001b[39m# this header is issued *only* for HTTP/1.1\u001b[39;00m\n\u001b[1;32m   1138\u001b[0m         \u001b[39m# connections. more specifically, this means it is\u001b[39;00m\n\u001b[0;32m   (...)\u001b[0m\n\u001b[1;32m   1148\u001b[0m         \u001b[39m# but the host of the actual URL, not the host of the\u001b[39;00m\n\u001b[1;32m   1149\u001b[0m         \u001b[39m# proxy.\u001b[39;00m\n",
      "File \u001b[0;32m~/anaconda3/envs/dl/lib/python3.10/http/client.py:1211\u001b[0m, in \u001b[0;36mHTTPConnection._encode_request\u001b[0;34m(self, request)\u001b[0m\n\u001b[1;32m   1209\u001b[0m \u001b[39mdef\u001b[39;00m \u001b[39m_encode_request\u001b[39m(\u001b[39mself\u001b[39m, request):\n\u001b[1;32m   1210\u001b[0m     \u001b[39m# ASCII also helps prevent CVE-2019-9740.\u001b[39;00m\n\u001b[0;32m-> 1211\u001b[0m     \u001b[39mreturn\u001b[39;00m request\u001b[39m.\u001b[39;49mencode(\u001b[39m'\u001b[39;49m\u001b[39mascii\u001b[39;49m\u001b[39m'\u001b[39;49m)\n",
      "\u001b[0;31mUnicodeEncodeError\u001b[0m: 'ascii' codec can't encode characters in position 18-24: ordinal not in range(128)"
     ]
    }
   ],
   "source": [
    "print(driver(input= 'الجوهرة', itc=arabic))"
   ]
  },
  {
   "cell_type": "code",
   "execution_count": 26,
   "metadata": {},
   "outputs": [
    {
     "ename": "TypeError",
     "evalue": "can only concatenate str (not \"bytes\") to str",
     "output_type": "error",
     "traceback": [
      "\u001b[0;31m---------------------------------------------------------------------------\u001b[0m",
      "\u001b[0;31mTypeError\u001b[0m                                 Traceback (most recent call last)",
      "\u001b[1;32m/data/boda/Arabic_makemore/prepare_data.ipynb Cell 11\u001b[0m in \u001b[0;36m<cell line: 1>\u001b[0;34m()\u001b[0m\n\u001b[0;32m----> <a href='vscode-notebook-cell:/data/boda/Arabic_makemore/prepare_data.ipynb#X13sZmlsZQ%3D%3D?line=0'>1</a>\u001b[0m res \u001b[39m=\u001b[39m trans_request(\u001b[39minput\u001b[39;49m \u001b[39m=\u001b[39;49m \u001b[39m\"\u001b[39;49m\u001b[39mليه\u001b[39;49m\u001b[39m\"\u001b[39;49m\u001b[39m.\u001b[39;49mencode(\u001b[39m\"\u001b[39;49m\u001b[39mutf-8\u001b[39;49m\u001b[39m\"\u001b[39;49m), itc \u001b[39m=\u001b[39;49m english)\n\u001b[1;32m      <a href='vscode-notebook-cell:/data/boda/Arabic_makemore/prepare_data.ipynb#X13sZmlsZQ%3D%3D?line=2'>3</a>\u001b[0m res\u001b[39m.\u001b[39mread()\n",
      "\u001b[1;32m/data/boda/Arabic_makemore/prepare_data.ipynb Cell 11\u001b[0m in \u001b[0;36mtrans_request\u001b[0;34m(input, itc)\u001b[0m\n\u001b[1;32m     <a href='vscode-notebook-cell:/data/boda/Arabic_makemore/prepare_data.ipynb#X13sZmlsZQ%3D%3D?line=11'>12</a>\u001b[0m \u001b[39m'''\u001b[39;00m\n\u001b[1;32m     <a href='vscode-notebook-cell:/data/boda/Arabic_makemore/prepare_data.ipynb#X13sZmlsZQ%3D%3D?line=12'>13</a>\u001b[0m \u001b[39m    input: the Arabizi word\u001b[39;00m\n\u001b[1;32m     <a href='vscode-notebook-cell:/data/boda/Arabic_makemore/prepare_data.ipynb#X13sZmlsZQ%3D%3D?line=13'>14</a>\u001b[0m \u001b[39m    itc: the language code \u001b[39;00m\n\u001b[1;32m     <a href='vscode-notebook-cell:/data/boda/Arabic_makemore/prepare_data.ipynb#X13sZmlsZQ%3D%3D?line=14'>15</a>\u001b[0m \u001b[39m'''\u001b[39;00m\n\u001b[1;32m     <a href='vscode-notebook-cell:/data/boda/Arabic_makemore/prepare_data.ipynb#X13sZmlsZQ%3D%3D?line=15'>16</a>\u001b[0m conn \u001b[39m=\u001b[39m http\u001b[39m.\u001b[39mclient\u001b[39m.\u001b[39mHTTPSConnection(\u001b[39m'\u001b[39m\u001b[39minputtools.google.com\u001b[39m\u001b[39m'\u001b[39m)\n\u001b[0;32m---> <a href='vscode-notebook-cell:/data/boda/Arabic_makemore/prepare_data.ipynb#X13sZmlsZQ%3D%3D?line=16'>17</a>\u001b[0m conn\u001b[39m.\u001b[39mrequest(\u001b[39m'\u001b[39m\u001b[39mGET\u001b[39m\u001b[39m'\u001b[39m, \u001b[39m'\u001b[39;49m\u001b[39m/request?text=\u001b[39;49m\u001b[39m'\u001b[39;49m \u001b[39m+\u001b[39;49m \u001b[39minput\u001b[39;49m \u001b[39m+\u001b[39m \u001b[39m'\u001b[39m\u001b[39m&itc=\u001b[39m\u001b[39m'\u001b[39m \u001b[39m+\u001b[39m itc )\n\u001b[1;32m     <a href='vscode-notebook-cell:/data/boda/Arabic_makemore/prepare_data.ipynb#X13sZmlsZQ%3D%3D?line=17'>18</a>\u001b[0m res \u001b[39m=\u001b[39m conn\u001b[39m.\u001b[39mgetresponse()\n\u001b[1;32m     <a href='vscode-notebook-cell:/data/boda/Arabic_makemore/prepare_data.ipynb#X13sZmlsZQ%3D%3D?line=18'>19</a>\u001b[0m \u001b[39mreturn\u001b[39;00m res\n",
      "\u001b[0;31mTypeError\u001b[0m: can only concatenate str (not \"bytes\") to str"
     ]
    }
   ],
   "source": [
    "res = trans_request(input = \"ليه\".encode(\"utf-8\"), itc = english)\n",
    "\n",
    "res.read()"
   ]
  },
  {
   "cell_type": "code",
   "execution_count": null,
   "metadata": {},
   "outputs": [],
   "source": []
  }
 ],
 "metadata": {
  "kernelspec": {
   "display_name": "Python 3.10.6 ('dl')",
   "language": "python",
   "name": "python3"
  },
  "language_info": {
   "codemirror_mode": {
    "name": "ipython",
    "version": 3
   },
   "file_extension": ".py",
   "mimetype": "text/x-python",
   "name": "python",
   "nbconvert_exporter": "python",
   "pygments_lexer": "ipython3",
   "version": "3.10.6"
  },
  "orig_nbformat": 4,
  "vscode": {
   "interpreter": {
    "hash": "64b178eb49eecde524ce545b08b9f340bede480db49f6e9a9fc4b812ce5e0df6"
   }
  }
 },
 "nbformat": 4,
 "nbformat_minor": 2
}
