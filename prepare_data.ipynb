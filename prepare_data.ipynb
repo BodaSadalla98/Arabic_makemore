{
 "cells": [
  {
   "cell_type": "code",
   "execution_count": 1,
   "metadata": {},
   "outputs": [],
   "source": [
    "with open('data/no_diac_names.txt', 'r') as f:\n",
    "    n1 = [x.strip() for x in f.readlines()]"
   ]
  },
  {
   "cell_type": "code",
   "execution_count": 2,
   "metadata": {},
   "outputs": [],
   "source": [
    "import pandas as pd"
   ]
  },
  {
   "cell_type": "code",
   "execution_count": 3,
   "metadata": {},
   "outputs": [],
   "source": [
    "n2 = pd.concat([pd.read_csv('data/females_ar.csv').Name, pd.read_csv('data/males_ar.csv').Name,pd.read_csv('data/Arabic_names.csv').Name]) "
   ]
  },
  {
   "cell_type": "code",
   "execution_count": 4,
   "metadata": {},
   "outputs": [],
   "source": [
    "n2 = list(n2)"
   ]
  },
  {
   "cell_type": "code",
   "execution_count": 5,
   "metadata": {},
   "outputs": [],
   "source": [
    "n1.extend(n2)"
   ]
  },
  {
   "cell_type": "code",
   "execution_count": 6,
   "metadata": {},
   "outputs": [
    {
     "name": "stdout",
     "output_type": "stream",
     "text": [
      "49283\n"
     ]
    }
   ],
   "source": [
    "print(len(n1))"
   ]
  },
  {
   "cell_type": "code",
   "execution_count": 7,
   "metadata": {},
   "outputs": [],
   "source": [
    "df = pd.DataFrame(n1)"
   ]
  },
  {
   "cell_type": "code",
   "execution_count": 8,
   "metadata": {},
   "outputs": [],
   "source": [
    "df.to_excel('combined_arabic_names.xlsx')"
   ]
  },
  {
   "cell_type": "code",
   "execution_count": 30,
   "metadata": {},
   "outputs": [],
   "source": [
    "with open('combined_arabic_names.txt','w') as f:\n",
    "    for l in n1:\n",
    "        f.write(l + '\\n')"
   ]
  },
  {
   "cell_type": "code",
   "execution_count": 17,
   "metadata": {},
   "outputs": [],
   "source": [
    "\n",
    "from typing import Text\n",
    "import http.client\n",
    "import json\n",
    "import re\n",
    "import time\n",
    "# arabic language code \n",
    "arabic = 'ar-t-i0-und'\n",
    "english = 'en-t-i0-und'\n",
    "\n",
    "#makes https get request and get the response\n",
    "def trans_request(input, itc):\n",
    "    '''\n",
    "        input: the Arabizi word\n",
    "        itc: the language code \n",
    "    '''\n",
    "    conn = http.client.HTTPSConnection('inputtools.google.com')\n",
    "    conn.request('GET', '/request?text=' + input + '&itc=' + itc )\n",
    "    res = conn.getresponse()\n",
    "    return res\n",
    "\n",
    "def driver(input, itc):\n",
    "    output = ''\n",
    "    if ' ' in input:\n",
    "        input = input.split(' ')\n",
    "        for i in input:\n",
    "            res = trans_request(input = i, itc = itc)\n",
    "            res = res.read()\n",
    "            if i==0:\n",
    "                output = str(res, encoding = 'utf-8')[14+4+len(i):-31]\n",
    "            else:\n",
    "                output = output + ' ' + str(res, encoding = 'utf-8')[14+4+len(i):-31]\n",
    "                output = output.rstrip()\n",
    "    else:\n",
    "        res = trans_request(input = input, itc = itc)\n",
    "        res = res.read()\n",
    "        output = str(res, encoding = 'utf-8')[14+4+len(input):-31]\n",
    "    return output"
   ]
  },
  {
   "cell_type": "code",
   "execution_count": null,
   "metadata": {},
   "outputs": [],
   "source": [
    "print(driver(input= 'الجوهرة', itc=arabic))"
   ]
  },
  {
   "cell_type": "code",
   "execution_count": 26,
   "metadata": {},
   "outputs": [
    {
     "ename": "TypeError",
     "evalue": "can only concatenate str (not \"bytes\") to str",
     "output_type": "error",
     "traceback": [
      "\u001b[0;31m---------------------------------------------------------------------------\u001b[0m",
      "\u001b[0;31mTypeError\u001b[0m                                 Traceback (most recent call last)",
      "\u001b[1;32m/data/boda/Arabic_makemore/prepare_data.ipynb Cell 11\u001b[0m in \u001b[0;36m<cell line: 1>\u001b[0;34m()\u001b[0m\n\u001b[0;32m----> <a href='vscode-notebook-cell:/data/boda/Arabic_makemore/prepare_data.ipynb#X13sZmlsZQ%3D%3D?line=0'>1</a>\u001b[0m res \u001b[39m=\u001b[39m trans_request(\u001b[39minput\u001b[39;49m \u001b[39m=\u001b[39;49m \u001b[39m\"\u001b[39;49m\u001b[39mليه\u001b[39;49m\u001b[39m\"\u001b[39;49m\u001b[39m.\u001b[39;49mencode(\u001b[39m\"\u001b[39;49m\u001b[39mutf-8\u001b[39;49m\u001b[39m\"\u001b[39;49m), itc \u001b[39m=\u001b[39;49m english)\n\u001b[1;32m      <a href='vscode-notebook-cell:/data/boda/Arabic_makemore/prepare_data.ipynb#X13sZmlsZQ%3D%3D?line=2'>3</a>\u001b[0m res\u001b[39m.\u001b[39mread()\n",
      "\u001b[1;32m/data/boda/Arabic_makemore/prepare_data.ipynb Cell 11\u001b[0m in \u001b[0;36mtrans_request\u001b[0;34m(input, itc)\u001b[0m\n\u001b[1;32m     <a href='vscode-notebook-cell:/data/boda/Arabic_makemore/prepare_data.ipynb#X13sZmlsZQ%3D%3D?line=11'>12</a>\u001b[0m \u001b[39m'''\u001b[39;00m\n\u001b[1;32m     <a href='vscode-notebook-cell:/data/boda/Arabic_makemore/prepare_data.ipynb#X13sZmlsZQ%3D%3D?line=12'>13</a>\u001b[0m \u001b[39m    input: the Arabizi word\u001b[39;00m\n\u001b[1;32m     <a href='vscode-notebook-cell:/data/boda/Arabic_makemore/prepare_data.ipynb#X13sZmlsZQ%3D%3D?line=13'>14</a>\u001b[0m \u001b[39m    itc: the language code \u001b[39;00m\n\u001b[1;32m     <a href='vscode-notebook-cell:/data/boda/Arabic_makemore/prepare_data.ipynb#X13sZmlsZQ%3D%3D?line=14'>15</a>\u001b[0m \u001b[39m'''\u001b[39;00m\n\u001b[1;32m     <a href='vscode-notebook-cell:/data/boda/Arabic_makemore/prepare_data.ipynb#X13sZmlsZQ%3D%3D?line=15'>16</a>\u001b[0m conn \u001b[39m=\u001b[39m http\u001b[39m.\u001b[39mclient\u001b[39m.\u001b[39mHTTPSConnection(\u001b[39m'\u001b[39m\u001b[39minputtools.google.com\u001b[39m\u001b[39m'\u001b[39m)\n\u001b[0;32m---> <a href='vscode-notebook-cell:/data/boda/Arabic_makemore/prepare_data.ipynb#X13sZmlsZQ%3D%3D?line=16'>17</a>\u001b[0m conn\u001b[39m.\u001b[39mrequest(\u001b[39m'\u001b[39m\u001b[39mGET\u001b[39m\u001b[39m'\u001b[39m, \u001b[39m'\u001b[39;49m\u001b[39m/request?text=\u001b[39;49m\u001b[39m'\u001b[39;49m \u001b[39m+\u001b[39;49m \u001b[39minput\u001b[39;49m \u001b[39m+\u001b[39m \u001b[39m'\u001b[39m\u001b[39m&itc=\u001b[39m\u001b[39m'\u001b[39m \u001b[39m+\u001b[39m itc )\n\u001b[1;32m     <a href='vscode-notebook-cell:/data/boda/Arabic_makemore/prepare_data.ipynb#X13sZmlsZQ%3D%3D?line=17'>18</a>\u001b[0m res \u001b[39m=\u001b[39m conn\u001b[39m.\u001b[39mgetresponse()\n\u001b[1;32m     <a href='vscode-notebook-cell:/data/boda/Arabic_makemore/prepare_data.ipynb#X13sZmlsZQ%3D%3D?line=18'>19</a>\u001b[0m \u001b[39mreturn\u001b[39;00m res\n",
      "\u001b[0;31mTypeError\u001b[0m: can only concatenate str (not \"bytes\") to str"
     ]
    }
   ],
   "source": [
    "res = trans_request(input = \"ليه\".encode(\"utf-8\"), itc = english)\n",
    "\n",
    "res.read()"
   ]
  },
  {
   "cell_type": "code",
   "execution_count": 2,
   "metadata": {},
   "outputs": [],
   "source": [
    "\n",
    "import re\n",
    "with open('data/combined_english_names.txt','r') as f:\n",
    "    names = [x.strip().lower() for x in f.readlines()]\n",
    "\n",
    "\n",
    "names = [x.replace(' ','-') for x in names]\n",
    "names = [x[1:] if x.startswith('aa')else x for x in names  ]\n",
    "\n",
    "names = [re.sub(r'[^a-z\\-]','',x) for x in names]\n",
    "\n"
   ]
  },
  {
   "cell_type": "code",
   "execution_count": 3,
   "metadata": {},
   "outputs": [
    {
     "name": "stdout",
     "output_type": "stream",
     "text": [
      "58854\n",
      "52812\n"
     ]
    }
   ],
   "source": [
    "print(len(names))\n",
    "\n",
    "names = list(set(names))\n",
    "\n",
    "print(len(names))\n"
   ]
  },
  {
   "cell_type": "code",
   "execution_count": 4,
   "metadata": {},
   "outputs": [],
   "source": [
    "with open('data/combined_english_names_cleaned.txt','w') as f:\n",
    "    for l in names:\n",
    "        f.write(l + '\\n')"
   ]
  },
  {
   "cell_type": "code",
   "execution_count": null,
   "metadata": {},
   "outputs": [],
   "source": []
  }
 ],
 "metadata": {
  "kernelspec": {
   "display_name": "Python 3.10.6 ('dl')",
   "language": "python",
   "name": "python3"
  },
  "language_info": {
   "codemirror_mode": {
    "name": "ipython",
    "version": 3
   },
   "file_extension": ".py",
   "mimetype": "text/x-python",
   "name": "python",
   "nbconvert_exporter": "python",
   "pygments_lexer": "ipython3",
   "version": "3.10.6"
  },
  "orig_nbformat": 4,
  "vscode": {
   "interpreter": {
    "hash": "64b178eb49eecde524ce545b08b9f340bede480db49f6e9a9fc4b812ce5e0df6"
   }
  }
 },
 "nbformat": 4,
 "nbformat_minor": 2
}
