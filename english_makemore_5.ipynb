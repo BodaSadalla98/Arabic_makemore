{
 "cells": [
  {
   "cell_type": "code",
   "execution_count": 314,
   "metadata": {},
   "outputs": [],
   "source": [
    "import torch\n",
    "import torch.nn.functional as F \n",
    "import matplotlib.pyplot as plt \n",
    "from tqdm import tqdm\n",
    "%matplotlib inline"
   ]
  },
  {
   "cell_type": "code",
   "execution_count": 315,
   "metadata": {},
   "outputs": [
    {
     "data": {
      "text/plain": [
       "['abdelrahman',\n",
       " 'albiloni',\n",
       " 'wsamaiah',\n",
       " 'sammar',\n",
       " 'alrshidiah',\n",
       " 'jllai',\n",
       " 'aljroshi',\n",
       " 'hazizah',\n",
       " 'noshin',\n",
       " 'akhdan']"
      ]
     },
     "execution_count": 315,
     "metadata": {},
     "output_type": "execute_result"
    }
   ],
   "source": [
    "with open('data/combined_english_names_cleaned.txt','r') as f:\n",
    "# with open('data/combined_arabic_names_cleaned.txt','r') as f:\n",
    "\n",
    "    names = [x.strip().lower() for x in f.readlines()]\n",
    "names[:10]"
   ]
  },
  {
   "cell_type": "code",
   "execution_count": 316,
   "metadata": {},
   "outputs": [
    {
     "name": "stdout",
     "output_type": "stream",
     "text": [
      "{'.': 0, '-': 1, 'a': 2, 'b': 3, 'c': 4, 'd': 5, 'e': 6, 'f': 7, 'g': 8, 'h': 9, 'i': 10, 'j': 11, 'k': 12, 'l': 13, 'm': 14, 'n': 15, 'o': 16, 'p': 17, 'q': 18, 'r': 19, 's': 20, 't': 21, 'u': 22, 'v': 23, 'w': 24, 'y': 25, 'z': 26}\n",
      "{0: '.', 1: '-', 2: 'a', 3: 'b', 4: 'c', 5: 'd', 6: 'e', 7: 'f', 8: 'g', 9: 'h', 10: 'i', 11: 'j', 12: 'k', 13: 'l', 14: 'm', 15: 'n', 16: 'o', 17: 'p', 18: 'q', 19: 'r', 20: 's', 21: 't', 22: 'u', 23: 'v', 24: 'w', 25: 'y', 26: 'z'}\n",
      "['-', 'a', 'b', 'c', 'd', 'e', 'f', 'g', 'h', 'i', 'j', 'k', 'l', 'm', 'n', 'o', 'p', 'q', 'r', 's', 't', 'u', 'v', 'w', 'y', 'z']\n"
     ]
    }
   ],
   "source": [
    "chars = ['.'] + sorted(list(set(''.join(names))))\n",
    "stoi = { c:i for i,c in enumerate(chars)}\n",
    "itos = {i:c for c,i in stoi.items()}\n",
    "print(stoi)\n",
    "print(itos)\n",
    "print( sorted(list(set(''.join(names)))))"
   ]
  },
  {
   "cell_type": "code",
   "execution_count": 317,
   "metadata": {},
   "outputs": [],
   "source": [
    "def build_dataset(names, context_size, p=False):\n",
    "    X = []\n",
    "    Y = []\n",
    "\n",
    "    for name in names:\n",
    "\n",
    "        if p :\n",
    "            print(name)\n",
    "        context = [stoi['.']] * context_size\n",
    "\n",
    "        for c in name + '.':\n",
    "            X.append(context)\n",
    "            Y.append(stoi[c])\n",
    "\n",
    "            if p:\n",
    "                print( ''.join(itos[x] for x in context) ,f' --> {c}')\n",
    "\n",
    "            context = context[1:] + [stoi[c]]\n",
    "\n",
    "    \n",
    "    X = torch.tensor(X)\n",
    "    Y = torch.tensor(Y)\n",
    "\n",
    "\n",
    "    return X,Y"
   ]
  },
  {
   "cell_type": "code",
   "execution_count": 318,
   "metadata": {},
   "outputs": [],
   "source": [
    "## MLP Setup\n",
    "\n",
    "EMBEDDING_SIZE = 10\n",
    "HIDDEN_SIZE = 200\n",
    "CONTEXT_SIZE = 8\n",
    "VOCAB_SIZE = len(chars)\n",
    "EPS  = 1e-5"
   ]
  },
  {
   "cell_type": "code",
   "execution_count": 319,
   "metadata": {},
   "outputs": [],
   "source": [
    "n1 = int(0.8 * len(names))\n",
    "n2 = int(0.9 * len(names))\n",
    "x_train, y_train = build_dataset( names[:n1], CONTEXT_SIZE )\n",
    "x_val, y_val = build_dataset( names[n1:n2], CONTEXT_SIZE )\n",
    "x_test, y_test = build_dataset( names[n2:], CONTEXT_SIZE )"
   ]
  },
  {
   "cell_type": "code",
   "execution_count": 320,
   "metadata": {},
   "outputs": [],
   "source": [
    "class Linear():\n",
    "    def __init__(self, in_n, out_n, bias=True) -> None:\n",
    "        self.params = []\n",
    "        self.have_bias = bias\n",
    "        self.weight = torch.randn((in_n,out_n)) / (in_n**0.5)\n",
    "        self.params.append(self.weight)\n",
    "\n",
    "        self.bias = None\n",
    "        if self.have_bias:\n",
    "            self.bias = torch.zeros(out_n)\n",
    "            self.params.append(self.bias)\n",
    "    \n",
    "    def __call__(self,x, is_training =True):\n",
    "        self.is_training = is_training\n",
    "\n",
    "        self.out = x @ self.params[0]\n",
    "        if self.have_bias:\n",
    "            self.out += self.params[1]\n",
    "        return self.out\n",
    "\n",
    "    def set_parameters(self,p):\n",
    "        self.params = p\n",
    "        # self.weight = p[0]\n",
    "        # self.bias = p[1]\n",
    "        # self.params = [p]\n",
    "\n",
    "    def parameters(self):\n",
    "        return self.params\n",
    "        "
   ]
  },
  {
   "cell_type": "code",
   "execution_count": 321,
   "metadata": {},
   "outputs": [],
   "source": [
    "class BatchNorm():\n",
    "    def __init__(self, in_n,eps=1e-5, momentum = 0.1) -> None:\n",
    "        self.eps = eps\n",
    "        self.is_training = True\n",
    "        self.momentum = momentum\n",
    "        self.running_mean = torch.zeros(in_n)\n",
    "        self.running_std  = torch.ones(in_n)\n",
    "        self.gain = torch.ones(in_n)\n",
    "        self.bias = torch.zeros(in_n)\n",
    "        self.params = [self.gain , self.bias]\n",
    "\n",
    "\n",
    "    def __call__(self, x,  is_training= True):\n",
    "\n",
    "        self.is_training = is_training\n",
    "        if self.is_training:\n",
    "\n",
    "            if x.ndim == 2:\n",
    "                dim = 0\n",
    "            elif x.ndim == 3:\n",
    "                dim = (0,1)\n",
    "\n",
    "            mean = x.mean(dim,keepdims= True)\n",
    "            ## unbiased??\n",
    "            std = x.std(dim,keepdims= True)\n",
    "\n",
    "\n",
    "            self.out =  self.params[0] * (x - mean / (std + self.eps**0.5)) + self.params[1]\n",
    "\n",
    "            with torch.no_grad():\n",
    "                self.running_mean = self.running_mean * (1- self.momentum) \\\n",
    "                    + self.momentum * mean\n",
    "                self.running_std = self.running_std * (1- self.momentum) \\\n",
    "                + self.momentum * std\n",
    "\n",
    "        else:\n",
    "            # print(self.running_mean , self.running_std)\n",
    "            self.out =  self.params[0] * (x - self.running_mean / (self.running_std + self.eps**0.5)) + self.params[1]\n",
    "\n",
    "\n",
    "\n",
    "        return self.out\n",
    "\n",
    "    def set_parameters(self,p):\n",
    "        self.params = p\n",
    "        # self.gain = p[0]\n",
    "        # self.bias = p[1]\n",
    "        # self.params = [self.gain , self.bias]\n",
    "    def set_mean_std(self, conf):\n",
    "        self.running_mean = conf[0]\n",
    "        self.running_std = conf[1]\n",
    "    def get_mean_std(self):\n",
    "        return [self.running_mean, self.running_std]\n",
    "\n",
    "    def parameters(self):\n",
    "        return self.params\n"
   ]
  },
  {
   "cell_type": "code",
   "execution_count": 322,
   "metadata": {},
   "outputs": [],
   "source": [
    "class Activation():\n",
    "    def __init__(self, activation='tanh'):\n",
    "        self.params = []\n",
    "        if activation == 'tanh':\n",
    "            self.forward = self._forward_tanh\n",
    "        elif activation == 'relu':\n",
    "            self.forward = self._forward_relu\n",
    "        else:\n",
    "            raise Exception('Only tanh, and relu activations are supported')\n",
    "\n",
    "    def _forward_relu(self,x):\n",
    "        return torch.relu(x)\n",
    "    def _forward_tanh(self,x):\n",
    "        return torch.tanh(x)\n",
    "\n",
    "    def __call__(self, x, is_training= True):\n",
    "\n",
    "        self.is_training = is_training\n",
    "\n",
    "        \n",
    "        self.out = self.forward(x)\n",
    "        return self.out\n",
    "    \n",
    "    def set_parameters(self,p):\n",
    "        self.params = p\n",
    "    def parameters(self):\n",
    "        return self.params"
   ]
  },
  {
   "cell_type": "code",
   "execution_count": 323,
   "metadata": {},
   "outputs": [],
   "source": [
    "class Embedding:\n",
    "    def __init__(self, n_in, n_out) -> None:\n",
    "        self.weight = torch.randn((n_in,n_out))\n",
    "\n",
    "    def __call__(self, indicies, is_training=True):\n",
    "\n",
    "\n",
    "        self.out = self.weight[indicies]\n",
    "        \n",
    "        return self.out\n",
    "\n",
    "    def parameters(self):\n",
    "        return [self.weight]\n",
    "\n",
    "class Flatten:\n",
    "    def __call__(self, x,is_training=True) :\n",
    "            a =x.view(x.shape[0],-1)\n",
    "             \n",
    "\n",
    "            self.out = a\n",
    "            \n",
    "            return a\n",
    "    def parameters(self):\n",
    "        return []\n",
    "\n",
    "class SoftFlatten:\n",
    "    def __init__(self,n):\n",
    "         self.n = n\n",
    "\n",
    "    def __call__(self, x,is_training=True) :\n",
    "            \n",
    "            a =x.view(x.shape[0],-1,x.shape[2] * self.n)\n",
    "            if a.shape[1] == 1:\n",
    "                 a = a.squeeze(1)\n",
    "             \n",
    "\n",
    "            self.out = a\n",
    "            \n",
    "            return a\n",
    "    def parameters(self):\n",
    "        return []\n",
    "\n",
    "class Sequential:\n",
    "    def __init__(self, layers):\n",
    "        self.layers = layers\n",
    "    def __call__(self, x ,is_training=True):\n",
    "        for l in self.layers:\n",
    "            x = l(x, is_training)\n",
    "            self.out = x\n",
    "        return x\n",
    "\n",
    "    def parameters(self):\n",
    "        return [p for l in self.layers for p in l.parameters()]"
   ]
  },
  {
   "cell_type": "code",
   "execution_count": 324,
   "metadata": {},
   "outputs": [
    {
     "name": "stdout",
     "output_type": "stream",
     "text": [
      "tensor([[1, 2],\n",
      "        [5, 6]])\n",
      "tensor([[3, 4],\n",
      "        [7, 8]])\n",
      "tensor([[1, 2, 3, 4],\n",
      "        [5, 6, 7, 8]])\n",
      "tensor([[1, 2, 3, 4],\n",
      "        [5, 6, 7, 8]])\n",
      "tensor([[[1, 2, 3, 4],\n",
      "         [5, 6, 7, 8]]])\n"
     ]
    }
   ],
   "source": [
    "x = torch.tensor([[1,2],[3,4],[5,6],[7,8]])\n",
    "\n",
    "a = x[::2,:]\n",
    "b = x[1::2,:]\n",
    "print(a)\n",
    "print(b)\n",
    "\n",
    "\n",
    "print(torch.concat([a,b ] ,dim = 1))\n",
    "print(x.view(2,4))\n",
    "\n",
    "print(SoftFlatten(2)(x.unsqueeze(0)))\n"
   ]
  },
  {
   "cell_type": "code",
   "execution_count": 325,
   "metadata": {},
   "outputs": [
    {
     "name": "stdout",
     "output_type": "stream",
     "text": [
      "180291\n"
     ]
    }
   ],
   "source": [
    "\n",
    "\n",
    "## SETUP\n",
    "n_embed = 32\n",
    "n_hidden = 200\n",
    "activation = 'relu'\n",
    "embedding = torch.randn((VOCAB_SIZE,n_embed))\n",
    "\n",
    "layers = [\n",
    "    \n",
    "    Embedding(VOCAB_SIZE, n_embed),\n",
    "    SoftFlatten(2),Linear(2*n_embed , n_hidden, bias=False) ,BatchNorm(n_hidden), Activation(activation),\n",
    "    SoftFlatten(2),Linear(2*n_hidden , n_hidden, bias=False),BatchNorm(n_hidden), Activation(activation),\n",
    "    SoftFlatten(2),Linear(2*n_hidden , n_hidden, bias=False),BatchNorm(n_hidden), Activation(activation),\n",
    "    Linear(n_hidden , VOCAB_SIZE)\n",
    "]\n",
    "\n",
    "model = Sequential(layers)\n",
    "\n",
    "parameters = model.parameters()\n",
    "\n",
    "print(sum(p.nelement() for p in parameters))\n",
    "\n",
    "for p in parameters:\n",
    "    p.requires_grad = True"
   ]
  },
  {
   "cell_type": "code",
   "execution_count": 326,
   "metadata": {},
   "outputs": [],
   "source": [
    "def forward(x_batch, is_training):\n",
    "    # # x_batch = embedding[x_batch]\n",
    "    # x = x_batch.view(x_batch.shape[0], -1)\n",
    "    x = x_batch\n",
    "    for layer in layers:\n",
    "        x = layer(x, is_training)\n",
    "    return x"
   ]
  },
  {
   "cell_type": "code",
   "execution_count": 327,
   "metadata": {},
   "outputs": [
    {
     "name": "stderr",
     "output_type": "stream",
     "text": [
      "  0%|          | 0/200000 [00:00<?, ?it/s]"
     ]
    },
    {
     "name": "stdout",
     "output_type": "stream",
     "text": [
      "      0/ 200000: 3.4606\n"
     ]
    },
    {
     "name": "stderr",
     "output_type": "stream",
     "text": [
      "  5%|▌         | 10049/200000 [00:38<11:50, 267.42it/s]"
     ]
    },
    {
     "name": "stdout",
     "output_type": "stream",
     "text": [
      "  10000/ 200000: 2.1787\n"
     ]
    },
    {
     "name": "stderr",
     "output_type": "stream",
     "text": [
      " 10%|█         | 20050/200000 [01:17<11:23, 263.34it/s]"
     ]
    },
    {
     "name": "stdout",
     "output_type": "stream",
     "text": [
      "  20000/ 200000: 1.9373\n"
     ]
    },
    {
     "name": "stderr",
     "output_type": "stream",
     "text": [
      " 15%|█▌        | 30038/200000 [01:55<10:33, 268.43it/s]"
     ]
    },
    {
     "name": "stdout",
     "output_type": "stream",
     "text": [
      "  30000/ 200000: 1.9242\n"
     ]
    },
    {
     "name": "stderr",
     "output_type": "stream",
     "text": [
      " 20%|██        | 40034/200000 [02:33<10:15, 259.86it/s]"
     ]
    },
    {
     "name": "stdout",
     "output_type": "stream",
     "text": [
      "  40000/ 200000: 1.9568\n"
     ]
    },
    {
     "name": "stderr",
     "output_type": "stream",
     "text": [
      " 25%|██▌       | 50038/200000 [03:11<09:33, 261.61it/s]"
     ]
    },
    {
     "name": "stdout",
     "output_type": "stream",
     "text": [
      "  50000/ 200000: 1.6787\n"
     ]
    },
    {
     "name": "stderr",
     "output_type": "stream",
     "text": [
      " 30%|███       | 60043/200000 [03:49<09:03, 257.73it/s]"
     ]
    },
    {
     "name": "stdout",
     "output_type": "stream",
     "text": [
      "  60000/ 200000: 1.7935\n"
     ]
    },
    {
     "name": "stderr",
     "output_type": "stream",
     "text": [
      " 35%|███▌      | 70028/200000 [04:27<08:22, 258.60it/s]"
     ]
    },
    {
     "name": "stdout",
     "output_type": "stream",
     "text": [
      "  70000/ 200000: 1.9080\n"
     ]
    },
    {
     "name": "stderr",
     "output_type": "stream",
     "text": [
      " 40%|████      | 80048/200000 [05:06<09:15, 215.86it/s]"
     ]
    },
    {
     "name": "stdout",
     "output_type": "stream",
     "text": [
      "  80000/ 200000: 2.0180\n"
     ]
    },
    {
     "name": "stderr",
     "output_type": "stream",
     "text": [
      " 45%|████▌     | 90047/200000 [05:44<05:46, 317.58it/s]"
     ]
    },
    {
     "name": "stdout",
     "output_type": "stream",
     "text": [
      "  90000/ 200000: 1.9388\n"
     ]
    },
    {
     "name": "stderr",
     "output_type": "stream",
     "text": [
      " 50%|█████     | 100057/200000 [06:18<05:45, 289.38it/s]"
     ]
    },
    {
     "name": "stdout",
     "output_type": "stream",
     "text": [
      " 100000/ 200000: 2.0090\n"
     ]
    },
    {
     "name": "stderr",
     "output_type": "stream",
     "text": [
      " 55%|█████▌    | 110053/200000 [06:53<04:50, 309.99it/s]"
     ]
    },
    {
     "name": "stdout",
     "output_type": "stream",
     "text": [
      " 110000/ 200000: 1.7607\n"
     ]
    },
    {
     "name": "stderr",
     "output_type": "stream",
     "text": [
      " 60%|██████    | 120064/200000 [07:28<04:11, 317.67it/s]"
     ]
    },
    {
     "name": "stdout",
     "output_type": "stream",
     "text": [
      " 120000/ 200000: 1.6562\n"
     ]
    },
    {
     "name": "stderr",
     "output_type": "stream",
     "text": [
      " 65%|██████▌   | 130056/200000 [08:03<03:55, 296.91it/s]"
     ]
    },
    {
     "name": "stdout",
     "output_type": "stream",
     "text": [
      " 130000/ 200000: 1.9968\n"
     ]
    },
    {
     "name": "stderr",
     "output_type": "stream",
     "text": [
      " 70%|███████   | 140034/200000 [08:38<03:38, 274.52it/s]"
     ]
    },
    {
     "name": "stdout",
     "output_type": "stream",
     "text": [
      " 140000/ 200000: 2.1849\n"
     ]
    },
    {
     "name": "stderr",
     "output_type": "stream",
     "text": [
      " 75%|███████▌  | 150040/200000 [09:13<03:02, 274.03it/s]"
     ]
    },
    {
     "name": "stdout",
     "output_type": "stream",
     "text": [
      " 150000/ 200000: 1.9290\n"
     ]
    },
    {
     "name": "stderr",
     "output_type": "stream",
     "text": [
      " 80%|████████  | 160051/200000 [09:48<02:20, 285.29it/s]"
     ]
    },
    {
     "name": "stdout",
     "output_type": "stream",
     "text": [
      " 160000/ 200000: 1.8802\n"
     ]
    },
    {
     "name": "stderr",
     "output_type": "stream",
     "text": [
      " 85%|████████▌ | 170057/200000 [10:23<01:33, 320.43it/s]"
     ]
    },
    {
     "name": "stdout",
     "output_type": "stream",
     "text": [
      " 170000/ 200000: 1.7749\n"
     ]
    },
    {
     "name": "stderr",
     "output_type": "stream",
     "text": [
      " 90%|█████████ | 180036/200000 [10:57<01:07, 295.43it/s]"
     ]
    },
    {
     "name": "stdout",
     "output_type": "stream",
     "text": [
      " 180000/ 200000: 1.8094\n"
     ]
    },
    {
     "name": "stderr",
     "output_type": "stream",
     "text": [
      " 95%|█████████▌| 190064/200000 [11:31<00:32, 307.07it/s]"
     ]
    },
    {
     "name": "stdout",
     "output_type": "stream",
     "text": [
      " 190000/ 200000: 1.8355\n"
     ]
    },
    {
     "name": "stderr",
     "output_type": "stream",
     "text": [
      "100%|██████████| 200000/200000 [12:06<00:00, 275.21it/s]\n"
     ]
    }
   ],
   "source": [
    "STEPS = 2_000_00\n",
    "BATCH_SIZE = 128\n",
    "lossi = []\n",
    "\n",
    "for i in tqdm(range(STEPS)):\n",
    "    indices = torch.randint(0, x_train.shape[0],(BATCH_SIZE,))\n",
    "    x_batch , y_batch = x_train[indices], y_train[indices]\n",
    "\n",
    "    \n",
    "    x = model(x_batch)\n",
    "\n",
    "    loss = F.cross_entropy(x,y_batch)\n",
    "\n",
    "    ################### BACKWARD ##################\n",
    "    for p in parameters:\n",
    "        p.grad = None\n",
    "\n",
    "    loss.backward()\n",
    "    lr = 0.001 if i < STEPS*0.7 else 0.0001\n",
    "    with torch.no_grad():\n",
    "        for p in parameters:\n",
    "            p += -lr * p.grad\n",
    "\n",
    "\n",
    "    # track stats\n",
    "    if i % 10000 == 0: # print every once in a while\n",
    "        print(f'{i:7d}/{STEPS:7d}: {loss.item():.4f}')\n",
    "    lossi.append(loss.log10().item())"
   ]
  },
  {
   "cell_type": "code",
   "execution_count": 328,
   "metadata": {},
   "outputs": [
    {
     "data": {
      "text/plain": [
       "[<matplotlib.lines.Line2D at 0x7f22a2dbb6a0>]"
      ]
     },
     "execution_count": 328,
     "metadata": {},
     "output_type": "execute_result"
    },
    {
     "data": {
      "image/png": "[encoded data removed]",
      "text/plain": [
       "<Figure size 640x480 with 1 Axes>"
      ]
     },
     "metadata": {},
     "output_type": "display_data"
    }
   ],
   "source": [
    "plt.plot(lossi)"
   ]
  },
  {
   "cell_type": "code",
   "execution_count": 329,
   "metadata": {},
   "outputs": [
    {
     "data": {
      "text/plain": [
       "[<matplotlib.lines.Line2D at 0x7f22a2541d50>]"
      ]
     },
     "execution_count": 329,
     "metadata": {},
     "output_type": "execute_result"
    },
    {
     "data": {
      "image/png": "[encoded data removed]",
      "text/plain": [
       "<Figure size 640x480 with 1 Axes>"
      ]
     },
     "metadata": {},
     "output_type": "display_data"
    }
   ],
   "source": [
    "plt.plot(torch.tensor(lossi).view(-1,1000).mean(1))"
   ]
  },
  {
   "cell_type": "code",
   "execution_count": 330,
   "metadata": {},
   "outputs": [
    {
     "name": "stdout",
     "output_type": "stream",
     "text": [
      "Embedding : (128, 8, 32)\n",
      "SoftFlatten : (128, 4, 64)\n",
      "Linear : (128, 4, 200)\n",
      "BatchNorm : (128, 4, 200)\n",
      "Activation : (128, 4, 200)\n",
      "SoftFlatten : (128, 2, 400)\n",
      "Linear : (128, 2, 200)\n",
      "BatchNorm : (128, 2, 200)\n",
      "Activation : (128, 2, 200)\n",
      "SoftFlatten : (128, 400)\n",
      "Linear : (128, 200)\n",
      "BatchNorm : (128, 200)\n",
      "Activation : (128, 200)\n",
      "Linear : (128, 27)\n"
     ]
    }
   ],
   "source": [
    "for layer in layers:\n",
    "    print(layer.__class__.__name__, ':', tuple(layer.out.shape))\n"
   ]
  },
  {
   "cell_type": "code",
   "execution_count": 331,
   "metadata": {},
   "outputs": [],
   "source": [
    "@torch.no_grad()\n",
    "def eval(split):\n",
    "\n",
    "    x,y = {\n",
    "\n",
    "        'train' : (x_train, y_train),\n",
    "        'val' : (x_val, y_val),\n",
    "        'test' : (x_test, y_test),\n",
    "    }[split]\n",
    "    x = model(x, False) \n",
    "    loss = F.cross_entropy(x,y)\n",
    "\n",
    "\n",
    "    print(split, loss.item())\n",
    "    "
   ]
  },
  {
   "cell_type": "code",
   "execution_count": 332,
   "metadata": {},
   "outputs": [
    {
     "name": "stdout",
     "output_type": "stream",
     "text": [
      "train 1.8523900508880615\n",
      "val 1.8707696199417114\n",
      "test 1.8652713298797607\n"
     ]
    }
   ],
   "source": [
    "for layer in layers:\n",
    "    layer.training = False\n",
    "\n",
    "\n",
    "eval('train')\n",
    "eval('val')\n",
    "eval('test')\n"
   ]
  },
  {
   "cell_type": "code",
   "execution_count": 333,
   "metadata": {},
   "outputs": [],
   "source": [
    "def generate_name():\n",
    "\n",
    "    # embedding,w1,b1,w2,b2,bnbias,bngain = best_params \n",
    "    w = ''\n",
    "    last_ch = [0]* CONTEXT_SIZE\n",
    "    while True:\n",
    "        last_ch = torch.tensor(last_ch).unsqueeze(0)\n",
    "        x = forward(last_ch,False)\n",
    "        last_ch = last_ch.clone().detach().squeeze(0)\n",
    "\n",
    "        p = torch.softmax(x, dim=1)\n",
    "\n",
    "        next_ch = torch.multinomial(p, num_samples=1, replacement=True).item()\n",
    "\n",
    "        last_ch = last_ch.tolist()\n",
    "        last_ch = last_ch[1:] + [next_ch]\n",
    "\n",
    "        w += itos[next_ch]\n",
    "\n",
    "        if next_ch == 0:\n",
    "            break\n",
    "\n",
    "    return w"
   ]
  },
  {
   "cell_type": "code",
   "execution_count": 334,
   "metadata": {},
   "outputs": [
    {
     "name": "stdout",
     "output_type": "stream",
     "text": [
      "alkararahit.\n",
      "rhaiman.\n",
      "dhwaat.\n",
      "mntad.\n",
      "altnaiab.\n",
      "aoilah.\n",
      "alrnanaz.\n",
      "hamadiah.\n",
      "ghabqur.\n",
      "jhhazai.\n"
     ]
    }
   ],
   "source": [
    "for i in range(10):\n",
    "   print(generate_name())"
   ]
  },
  {
   "cell_type": "code",
   "execution_count": 335,
   "metadata": {},
   "outputs": [],
   "source": [
    "## saving weights\n",
    "\n",
    "# parameters = [embedding] + [layer.parameters() for layer in layers ]\n",
    "\n",
    "# bn_conf = []\n",
    "# for l in layers:\n",
    "#     if l.__class__.__name__ == \"BatchNorm\":\n",
    "#         bn_conf.append(l.get_mean_std())\n",
    "\n",
    "# save_dict = {\n",
    "#     'params': parameters,\n",
    "#     'bn_conf': bn_conf\n",
    "# }\n",
    "\n",
    "# torch.save(save_dict,'weights/en_dataset_weights.pt')"
   ]
  },
  {
   "cell_type": "code",
   "execution_count": null,
   "metadata": {},
   "outputs": [],
   "source": []
  }
 ],
 "metadata": {
  "kernelspec": {
   "display_name": "dl",
   "language": "python",
   "name": "python3"
  },
  "language_info": {
   "codemirror_mode": {
    "name": "ipython",
    "version": 3
   },
   "file_extension": ".py",
   "mimetype": "text/x-python",
   "name": "python",
   "nbconvert_exporter": "python",
   "pygments_lexer": "ipython3",
   "version": "3.10.6"
  },
  "orig_nbformat": 4,
  "vscode": {
   "interpreter": {
    "hash": "64b178eb49eecde524ce545b08b9f340bede480db49f6e9a9fc4b812ce5e0df6"
   }
  }
 },
 "nbformat": 4,
 "nbformat_minor": 2
}
