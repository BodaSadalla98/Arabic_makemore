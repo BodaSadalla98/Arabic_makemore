{
 "cells": [
  {
   "attachments": {},
   "cell_type": "markdown",
   "metadata": {},
   "source": [
    "# Intro\n",
    "\n",
    "In this notebook, we are going to scale things a bit.\n",
    "we will build a MLP, with two options of nonlinearity: tanh, and Relu\n"
   ]
  },
  {
   "attachments": {},
   "cell_type": "markdown",
   "metadata": {},
   "source": [
    "# Imports and setup"
   ]
  },
  {
   "cell_type": "code",
   "execution_count": 673,
   "metadata": {},
   "outputs": [],
   "source": [
    "import torch\n",
    "import torch.nn.functional as F \n",
    "import matplotlib.pyplot as plt \n",
    "from tqdm import tqdm\n",
    "%matplotlib inline"
   ]
  },
  {
   "cell_type": "code",
   "execution_count": 674,
   "metadata": {},
   "outputs": [
    {
     "data": {
      "text/plain": [
       "['abdelrahman',\n",
       " 'albiloni',\n",
       " 'wsamaiah',\n",
       " 'sammar',\n",
       " 'alrshidiah',\n",
       " 'jllai',\n",
       " 'aljroshi',\n",
       " 'hazizah',\n",
       " 'noshin',\n",
       " 'akhdan']"
      ]
     },
     "execution_count": 674,
     "metadata": {},
     "output_type": "execute_result"
    }
   ],
   "source": [
    "with open('data/combined_english_names_cleaned.txt','r') as f:\n",
    "# with open('data/combined_arabic_names_cleaned.txt','r') as f:\n",
    "\n",
    "    names = [x.strip().lower() for x in f.readlines()]\n",
    "names[:10]"
   ]
  },
  {
   "cell_type": "code",
   "execution_count": 675,
   "metadata": {},
   "outputs": [
    {
     "data": {
      "text/plain": [
       "52813"
      ]
     },
     "execution_count": 675,
     "metadata": {},
     "output_type": "execute_result"
    }
   ],
   "source": [
    "len(names)\n"
   ]
  },
  {
   "cell_type": "code",
   "execution_count": 676,
   "metadata": {},
   "outputs": [
    {
     "name": "stdout",
     "output_type": "stream",
     "text": [
      "{'.': 0, '-': 1, 'a': 2, 'b': 3, 'c': 4, 'd': 5, 'e': 6, 'f': 7, 'g': 8, 'h': 9, 'i': 10, 'j': 11, 'k': 12, 'l': 13, 'm': 14, 'n': 15, 'o': 16, 'p': 17, 'q': 18, 'r': 19, 's': 20, 't': 21, 'u': 22, 'v': 23, 'w': 24, 'y': 25, 'z': 26}\n",
      "{0: '.', 1: '-', 2: 'a', 3: 'b', 4: 'c', 5: 'd', 6: 'e', 7: 'f', 8: 'g', 9: 'h', 10: 'i', 11: 'j', 12: 'k', 13: 'l', 14: 'm', 15: 'n', 16: 'o', 17: 'p', 18: 'q', 19: 'r', 20: 's', 21: 't', 22: 'u', 23: 'v', 24: 'w', 25: 'y', 26: 'z'}\n",
      "['-', 'a', 'b', 'c', 'd', 'e', 'f', 'g', 'h', 'i', 'j', 'k', 'l', 'm', 'n', 'o', 'p', 'q', 'r', 's', 't', 'u', 'v', 'w', 'y', 'z']\n"
     ]
    }
   ],
   "source": [
    "chars = ['.'] + sorted(list(set(''.join(names))))\n",
    "stoi = { c:i for i,c in enumerate(chars)}\n",
    "itos = {i:c for c,i in stoi.items()}\n",
    "print(stoi)\n",
    "print(itos)\n",
    "print( sorted(list(set(''.join(names)))))"
   ]
  },
  {
   "cell_type": "code",
   "execution_count": 677,
   "metadata": {},
   "outputs": [],
   "source": [
    "def build_dataset(names, context_size, p=False):\n",
    "    X = []\n",
    "    Y = []\n",
    "\n",
    "    for name in names:\n",
    "\n",
    "        if p :\n",
    "            print(name)\n",
    "        context = [stoi['.']] * context_size\n",
    "\n",
    "        for c in name + '.':\n",
    "            X.append(context)\n",
    "            Y.append(stoi[c])\n",
    "\n",
    "            if p:\n",
    "                print( ''.join(itos[x] for x in context) ,f' --> {c}')\n",
    "\n",
    "            context = context[1:] + [stoi[c]]\n",
    "\n",
    "    \n",
    "    X = torch.tensor(X)\n",
    "    Y = torch.tensor(Y)\n",
    "\n",
    "\n",
    "    return X,Y"
   ]
  },
  {
   "cell_type": "code",
   "execution_count": 678,
   "metadata": {},
   "outputs": [],
   "source": [
    "## MLP Setup\n",
    "\n",
    "EMBEDDING_SIZE = 10\n",
    "HIDDEN_SIZE = 200\n",
    "CONTEXT_SIZE = 5\n",
    "VOCAB_SIZE = len(chars)\n",
    "EPS  = 1e-5"
   ]
  },
  {
   "cell_type": "code",
   "execution_count": 679,
   "metadata": {},
   "outputs": [],
   "source": [
    "n1 = int(0.8 * len(names))\n",
    "n2 = int(0.9 * len(names))\n",
    "x_train, y_train = build_dataset( names[:n1], CONTEXT_SIZE )\n",
    "x_val, y_val = build_dataset( names[n1:n2], CONTEXT_SIZE )\n",
    "x_test, y_test = build_dataset( names[n2:], CONTEXT_SIZE )\n"
   ]
  },
  {
   "attachments": {},
   "cell_type": "markdown",
   "metadata": {},
   "source": [
    "# Messy way"
   ]
  },
  {
   "cell_type": "code",
   "execution_count": 680,
   "metadata": {},
   "outputs": [
    {
     "name": "stdout",
     "output_type": "stream",
     "text": [
      "Total number of parameter is:  16297\n"
     ]
    }
   ],
   "source": [
    "\n",
    "embedding = torch.randn((len(chars), EMBEDDING_SIZE))\n",
    "w1 = torch.randn(( EMBEDDING_SIZE * CONTEXT_SIZE,HIDDEN_SIZE)) * (5/3) / ( EMBEDDING_SIZE * CONTEXT_SIZE)**0.5\n",
    "b1 = torch.randn((HIDDEN_SIZE)) * 0.001\n",
    "w2 = torch.randn((HIDDEN_SIZE,VOCAB_SIZE)) * (5/3) / (HIDDEN_SIZE)**0.5\n",
    "b2 = torch.randn((VOCAB_SIZE)) * 0\n",
    "\n",
    "bngain = torch.ones((1,HIDDEN_SIZE))\n",
    "bnbias = torch.zeros((1,HIDDEN_SIZE))\n",
    "\n",
    "bnmean_running = torch.zeros((1,HIDDEN_SIZE))\n",
    "bnstd_running = torch.ones((1,HIDDEN_SIZE))\n",
    "\n",
    "\n",
    "parameters = [embedding,w1,b1,w2,b2, bnbias,bngain]\n",
    "\n",
    "for p in parameters:\n",
    "    p.requires_grad = True\n",
    "\n",
    "## Total number of params\n",
    "print('Total number of parameter is: ', sum(p.nelement() for p in parameters))"
   ]
  },
  {
   "cell_type": "code",
   "execution_count": 681,
   "metadata": {},
   "outputs": [],
   "source": [
    "best_params = []\n",
    "best_loss= 1e9"
   ]
  },
  {
   "cell_type": "code",
   "execution_count": 682,
   "metadata": {},
   "outputs": [],
   "source": [
    "def batch_norm(x):\n",
    "\n",
    "    global bnstd_running\n",
    "    global bnmean_running\n",
    "    mean =  x.mean(0, keepdim=True)\n",
    "    std = x.std(0, keepdim=True)\n",
    "\n",
    "\n",
    "    # as the batch size gets bigger, we can make our momentum factor bigger, as batches\n",
    "    # tend to have the same mean\n",
    "    momentum = 0.001\n",
    "    with torch.no_grad():\n",
    "        bnmean_running = (1-momentum) * bnmean_running + momentum * mean\n",
    "        bnstd_running = 0.999 * bnstd_running + 0.001 * std\n",
    "\n",
    "    return  (x - mean) /std + EPS"
   ]
  },
  {
   "cell_type": "code",
   "execution_count": 683,
   "metadata": {},
   "outputs": [
    {
     "name": "stderr",
     "output_type": "stream",
     "text": [
      "100%|██████████| 10/10 [00:00<00:00, 643.04it/s]"
     ]
    },
    {
     "name": "stdout",
     "output_type": "stream",
     "text": [
      "      0/     10: 3.91650\n"
     ]
    },
    {
     "name": "stderr",
     "output_type": "stream",
     "text": [
      "\n"
     ]
    }
   ],
   "source": [
    "lr = 0.2\n",
    "STEPS = 10\n",
    "BATCH_SIZE = 64\n",
    "lossi = []\n",
    "\n",
    "for i in tqdm(range(STEPS)):\n",
    "    \n",
    "    batch_indexes = torch.randint(0,x_train.shape[0], (BATCH_SIZE,))\n",
    "    \n",
    "    x_batch = x_train[batch_indexes]\n",
    "    y_batch =  y_train[batch_indexes]\n",
    "\n",
    "    emb = embedding[x_batch]\n",
    "    input = emb.view(-1,emb.shape[1] * emb.shape[2] )\n",
    "\n",
    "    ## NOTE: we can git rid of b1, as it's gonna get removed when we remove the mean in the normalization\n",
    "    \n",
    "    h =  input @ w1 + b1\n",
    "\n",
    "    h =  batch_norm(h)\n",
    "\n",
    "    h =  bngain*h + bnbias\n",
    "\n",
    "\n",
    "    act =  torch.tanh(h)\n",
    "\n",
    "\n",
    "    logits = act @ w2 + b2\n",
    "\n",
    "\n",
    "    loss = F.cross_entropy(logits, y_batch)\n",
    "\n",
    "    for p in parameters:\n",
    "            p.grad = None\n",
    "\n",
    "    loss.backward()\n",
    "\n",
    "    if loss < best_loss:\n",
    "        best_params = [embedding,w1,b1,w2,b2,bnbias,bngain]   \n",
    "        best_loss =  loss\n",
    "\n",
    "    if i % 100_000 == 0:\n",
    "        lr = lr * 0.1\n",
    "\n",
    "    lr = 0.1 if i < 100_000 else 0.01\n",
    "    for p in parameters:\n",
    "        assert(p.grad != None)\n",
    "        p.data +=   -lr * p.grad\n",
    "\n",
    "\n",
    "    if i % 100_00 == 0:\n",
    "        print(f'{i:7d}/{STEPS:7d}: {loss.item():.5f}')\n",
    "    lossi.append(loss.log10().item())\n",
    "    \n",
    "\n"
   ]
  },
  {
   "cell_type": "code",
   "execution_count": 684,
   "metadata": {},
   "outputs": [
    {
     "name": "stdout",
     "output_type": "stream",
     "text": [
      "tensor(3.1287, grad_fn=<NllLossBackward0>)\n"
     ]
    }
   ],
   "source": [
    "print(best_loss)"
   ]
  },
  {
   "attachments": {},
   "cell_type": "markdown",
   "metadata": {},
   "source": [
    "### Plot activations and see the percentage of saturated gradients"
   ]
  },
  {
   "cell_type": "code",
   "execution_count": 685,
   "metadata": {},
   "outputs": [
    {
     "data": {
      "text/plain": [
       "<matplotlib.image.AxesImage at 0x7f99dda96ad0>"
      ]
     },
     "execution_count": 685,
     "metadata": {},
     "output_type": "execute_result"
    },
    {
     "data": {
      "image/png": "[encoded data removed]",
      "text/plain": [
       "<Figure size 2000x1000 with 1 Axes>"
      ]
     },
     "metadata": {},
     "output_type": "display_data"
    }
   ],
   "source": [
    "plt.figure(figsize=(20,10))\n",
    "\n",
    "plt.imshow(h.abs() > 0.99, cmap='gray' , interpolation='nearest')"
   ]
  },
  {
   "cell_type": "code",
   "execution_count": 686,
   "metadata": {},
   "outputs": [
    {
     "data": {
      "text/plain": [
       "(array([  2.,   2.,   3.,   2.,   5.,  12.,  17.,  23.,  32.,  44.,  73.,\n",
       "         96., 106., 150., 268., 269., 431., 504., 503., 624., 666., 664.,\n",
       "        725., 705., 769., 743., 700., 765., 597., 539., 552., 486., 430.,\n",
       "        333., 253., 200., 138., 102.,  75.,  58.,  38.,  31.,  16.,  22.,\n",
       "          9.,  10.,   6.,   1.,   0.,   1.]),\n",
       " array([-3.73280716, -3.58146524, -3.43012357, -3.27878165, -3.12743974,\n",
       "        -2.97609806, -2.82475615, -2.67341423, -2.52207232, -2.37073064,\n",
       "        -2.21938872, -2.06804681, -1.91670501, -1.76536322, -1.6140213 ,\n",
       "        -1.46267951, -1.31133771, -1.15999579, -1.008654  , -0.85731214,\n",
       "        -0.70597029, -0.55462843, -0.40328661, -0.25194475, -0.10060291,\n",
       "         0.05073893,  0.20208077,  0.35342261,  0.50476444,  0.65610629,\n",
       "         0.80744815,  0.95879   ,  1.11013186,  1.26147366,  1.41281557,\n",
       "         1.56415737,  1.71549916,  1.86684108,  2.01818299,  2.16952467,\n",
       "         2.32086658,  2.4722085 ,  2.62355018,  2.77489209,  2.92623401,\n",
       "         3.07757568,  3.2289176 ,  3.38025951,  3.53160143,  3.68294311,\n",
       "         3.83428502]),\n",
       " <BarContainer object of 50 artists>)"
      ]
     },
     "execution_count": 686,
     "metadata": {},
     "output_type": "execute_result"
    },
    {
     "data": {
      "image/png": "[encoded data removed]",
      "text/plain": [
       "<Figure size 640x480 with 1 Axes>"
      ]
     },
     "metadata": {},
     "output_type": "display_data"
    }
   ],
   "source": [
    "plt.hist(h.view(-1).detach().cpu(), bins=50)\n"
   ]
  },
  {
   "cell_type": "code",
   "execution_count": 687,
   "metadata": {},
   "outputs": [
    {
     "data": {
      "text/plain": [
       "[<matplotlib.lines.Line2D at 0x7f99dbe0aa70>]"
      ]
     },
     "execution_count": 687,
     "metadata": {},
     "output_type": "execute_result"
    },
    {
     "data": {
      "image/png": "[encoded data removed]",
      "text/plain": [
       "<Figure size 640x480 with 1 Axes>"
      ]
     },
     "metadata": {},
     "output_type": "display_data"
    }
   ],
   "source": [
    "plt.plot(lossi)"
   ]
  },
  {
   "cell_type": "code",
   "execution_count": 688,
   "metadata": {},
   "outputs": [
    {
     "data": {
      "text/plain": [
       "torch.Size([44065, 5, 10])"
      ]
     },
     "execution_count": 688,
     "metadata": {},
     "output_type": "execute_result"
    }
   ],
   "source": [
    "embedding[x_test].shape"
   ]
  },
  {
   "cell_type": "code",
   "execution_count": 689,
   "metadata": {},
   "outputs": [],
   "source": [
    "x_t = embedding[x_train].view(x_train.shape[0],-1) @ w1 + b1\n",
    "\n",
    "training_std =  x_t.std(0, keepdim=True)\n",
    "training_mean = x_t.mean(0, keepdim=True,dtype=torch.float) "
   ]
  },
  {
   "cell_type": "code",
   "execution_count": 690,
   "metadata": {},
   "outputs": [
    {
     "name": "stdout",
     "output_type": "stream",
     "text": [
      "tensor(189.2484, grad_fn=<SumBackward0>)\n",
      "tensor(99.1983, grad_fn=<SumBackward0>)\n"
     ]
    }
   ],
   "source": [
    "print( torch.sum(torch.abs(training_mean- bnmean_running)))\n",
    "print( torch.sum(torch.abs(training_std-bnstd_running)))\n"
   ]
  },
  {
   "attachments": {},
   "cell_type": "markdown",
   "metadata": {},
   "source": [
    "# Making thing more tidy\n",
    "\n",
    "- make class for linear layer\n",
    "- class for batch norm\n",
    "- class for tanh activation\n"
   ]
  },
  {
   "cell_type": "code",
   "execution_count": 691,
   "metadata": {},
   "outputs": [],
   "source": [
    "class Linear():\n",
    "    def __init__(self, in_n, out_n, bias=True) -> None:\n",
    "        self.params = []\n",
    "        self.have_bias = bias\n",
    "        self.weight = torch.randn((in_n,out_n)) / (in_n**0.5)\n",
    "        self.params.append(self.weight)\n",
    "\n",
    "        self.bias = None\n",
    "        if self.have_bias:\n",
    "            self.bias = torch.zeros(out_n)\n",
    "            self.params.append(self.bias)\n",
    "    \n",
    "    def __call__(self,x, is_training =True):\n",
    "        self.is_training = is_training\n",
    "\n",
    "        self.out = x @ self.params[0]\n",
    "        if self.have_bias:\n",
    "            self.out += self.params[1]\n",
    "            return self.out\n",
    "\n",
    "    def set_parameters(self,p):\n",
    "        self.params = p\n",
    "        # self.weight = p[0]\n",
    "        # self.bias = p[1]\n",
    "        # self.params = [p]\n",
    "\n",
    "    def parameters(self):\n",
    "        return self.params\n",
    "        "
   ]
  },
  {
   "cell_type": "code",
   "execution_count": 692,
   "metadata": {},
   "outputs": [],
   "source": [
    "class BatchNorm():\n",
    "    def __init__(self, in_n,eps=1e-5, momentum = 0.1) -> None:\n",
    "        self.eps = eps\n",
    "        self.is_training = True\n",
    "        self.momentum = momentum\n",
    "        self.running_mean = torch.zeros(in_n)\n",
    "        self.running_std  = torch.ones(in_n)\n",
    "        self.gain = torch.ones(in_n)\n",
    "        self.bias = torch.zeros(in_n)\n",
    "        self.params = [self.gain , self.bias]\n",
    "\n",
    "\n",
    "    def __call__(self, x,  is_training= True):\n",
    "\n",
    "        self.is_training = is_training\n",
    "        if self.is_training:\n",
    "            mean = x.mean(0,keepdims= True)\n",
    "            ## unbiased??\n",
    "            std = x.std(0,keepdims= True)\n",
    "\n",
    "            self.out =  self.params[0] * (x - mean / (std + self.eps**0.5)) + self.params[1]\n",
    "\n",
    "            with torch.no_grad():\n",
    "                self.running_mean = self.running_mean * (1- self.momentum) \\\n",
    "                    + self.momentum * mean\n",
    "                self.running_std = self.running_std * (1- self.momentum) \\\n",
    "                + self.momentum * std\n",
    "\n",
    "        else:\n",
    "            # print(self.running_mean , self.running_std)\n",
    "            self.out =  self.params[0] * (x - self.running_mean / (self.running_std + self.eps**0.5)) + self.params[1]\n",
    "\n",
    "\n",
    "\n",
    "        return self.out\n",
    "\n",
    "    def set_parameters(self,p):\n",
    "        self.params = p\n",
    "        # self.gain = p[0]\n",
    "        # self.bias = p[1]\n",
    "        # self.params = [self.gain , self.bias]\n",
    "    def set_mean_std(self, conf):\n",
    "        self.running_mean = conf[0]\n",
    "        self.running_std = conf[1]\n",
    "    def get_mean_std(self):\n",
    "        return [self.running_mean, self.running_std]\n",
    "\n",
    "    def parameters(self):\n",
    "        return self.params\n"
   ]
  },
  {
   "cell_type": "code",
   "execution_count": 693,
   "metadata": {},
   "outputs": [],
   "source": [
    "class Activation():\n",
    "    def __init__(self, activation='tanh'):\n",
    "        self.params = []\n",
    "        if activation == 'tanh':\n",
    "            self.forward = self._forward_tanh\n",
    "        elif activation == 'relu':\n",
    "            self.forward = self._forward_relu\n",
    "        else:\n",
    "            raise Exception('Only tanh, and relu activations are supported')\n",
    "\n",
    "    def _forward_relu(self,x):\n",
    "        return torch.relu(x)\n",
    "    def _forward_tanh(self,x):\n",
    "        return torch.tanh(x)\n",
    "\n",
    "    def __call__(self, x, is_training= True):\n",
    "\n",
    "        self.is_training = is_training\n",
    "\n",
    "        \n",
    "        self.out = self.forward(x)\n",
    "        return self.out\n",
    "    \n",
    "    def set_parameters(self,p):\n",
    "        self.params = p\n",
    "    def parameters(self):\n",
    "        return self.params"
   ]
  },
  {
   "attachments": {},
   "cell_type": "markdown",
   "metadata": {},
   "source": [
    "### Stepup and Training"
   ]
  },
  {
   "cell_type": "code",
   "execution_count": 694,
   "metadata": {},
   "outputs": [
    {
     "data": {
      "text/plain": [
       "27"
      ]
     },
     "execution_count": 694,
     "metadata": {},
     "output_type": "execute_result"
    }
   ],
   "source": [
    "VOCAB_SIZE"
   ]
  },
  {
   "cell_type": "code",
   "execution_count": 695,
   "metadata": {},
   "outputs": [],
   "source": [
    "\n",
    "\n",
    "## SETUP\n",
    "n_embed = 10\n",
    "n_hidden = 100\n",
    "activation = 'relu'\n",
    "embedding = torch.randn((VOCAB_SIZE,n_embed))\n",
    "\n",
    "layers = [\n",
    "    Linear(CONTEXT_SIZE*n_embed , n_hidden),BatchNorm(n_hidden), Activation(activation),\n",
    "    Linear(n_hidden, n_hidden),BatchNorm(n_hidden), Activation(activation),\n",
    "    Linear(n_hidden, n_hidden),BatchNorm(n_hidden), Activation(activation),\n",
    "    Linear(n_hidden , VOCAB_SIZE)\n",
    "]\n",
    "\n",
    "parameters = [embedding] + [p for layer in layers for p in layer.parameters()]\n",
    "\n",
    "for p in parameters:\n",
    "    p.requires_grad = True"
   ]
  },
  {
   "cell_type": "code",
   "execution_count": 696,
   "metadata": {},
   "outputs": [],
   "source": [
    "def forward(x_batch, is_training):\n",
    "    x_batch = embedding[x_batch]\n",
    "    x = x_batch.view(x_batch.shape[0], -1)\n",
    "\n",
    "    for layer in layers:\n",
    "        x = layer(x, is_training)\n",
    "    return x"
   ]
  },
  {
   "cell_type": "code",
   "execution_count": 697,
   "metadata": {},
   "outputs": [
    {
     "name": "stderr",
     "output_type": "stream",
     "text": [
      "  0%|          | 105/200000 [00:00<06:18, 528.11it/s]"
     ]
    },
    {
     "name": "stdout",
     "output_type": "stream",
     "text": [
      "      0/ 200000: 3.5997\n"
     ]
    },
    {
     "name": "stderr",
     "output_type": "stream",
     "text": [
      "  5%|▌         | 10072/200000 [00:21<08:00, 395.67it/s]"
     ]
    },
    {
     "name": "stdout",
     "output_type": "stream",
     "text": [
      "  10000/ 200000: 1.9910\n"
     ]
    },
    {
     "name": "stderr",
     "output_type": "stream",
     "text": [
      " 10%|█         | 20040/200000 [00:44<06:07, 489.95it/s]"
     ]
    },
    {
     "name": "stdout",
     "output_type": "stream",
     "text": [
      "  20000/ 200000: 2.2079\n"
     ]
    },
    {
     "name": "stderr",
     "output_type": "stream",
     "text": [
      " 15%|█▌        | 30088/200000 [01:05<06:21, 445.77it/s]"
     ]
    },
    {
     "name": "stdout",
     "output_type": "stream",
     "text": [
      "  30000/ 200000: 2.0727\n"
     ]
    },
    {
     "name": "stderr",
     "output_type": "stream",
     "text": [
      " 20%|██        | 40069/200000 [01:25<05:39, 470.97it/s]"
     ]
    },
    {
     "name": "stdout",
     "output_type": "stream",
     "text": [
      "  40000/ 200000: 1.7862\n"
     ]
    },
    {
     "name": "stderr",
     "output_type": "stream",
     "text": [
      " 25%|██▌       | 50059/200000 [01:47<04:49, 517.36it/s]"
     ]
    },
    {
     "name": "stdout",
     "output_type": "stream",
     "text": [
      "  50000/ 200000: 1.9650\n"
     ]
    },
    {
     "name": "stderr",
     "output_type": "stream",
     "text": [
      " 30%|███       | 60056/200000 [02:08<04:29, 518.47it/s]"
     ]
    },
    {
     "name": "stdout",
     "output_type": "stream",
     "text": [
      "  60000/ 200000: 1.9508\n"
     ]
    },
    {
     "name": "stderr",
     "output_type": "stream",
     "text": [
      " 35%|███▌      | 70049/200000 [02:29<06:32, 330.93it/s]"
     ]
    },
    {
     "name": "stdout",
     "output_type": "stream",
     "text": [
      "  70000/ 200000: 1.7744\n"
     ]
    },
    {
     "name": "stderr",
     "output_type": "stream",
     "text": [
      " 40%|████      | 80080/200000 [02:50<04:07, 484.40it/s]"
     ]
    },
    {
     "name": "stdout",
     "output_type": "stream",
     "text": [
      "  80000/ 200000: 1.6253\n"
     ]
    },
    {
     "name": "stderr",
     "output_type": "stream",
     "text": [
      " 45%|████▌     | 90091/200000 [03:11<03:54, 468.10it/s]"
     ]
    },
    {
     "name": "stdout",
     "output_type": "stream",
     "text": [
      "  90000/ 200000: 2.0134\n"
     ]
    },
    {
     "name": "stderr",
     "output_type": "stream",
     "text": [
      " 50%|█████     | 100053/200000 [03:32<03:11, 520.84it/s]"
     ]
    },
    {
     "name": "stdout",
     "output_type": "stream",
     "text": [
      " 100000/ 200000: 1.7919\n"
     ]
    },
    {
     "name": "stderr",
     "output_type": "stream",
     "text": [
      " 55%|█████▌    | 110090/200000 [03:53<02:56, 509.46it/s]"
     ]
    },
    {
     "name": "stdout",
     "output_type": "stream",
     "text": [
      " 110000/ 200000: 1.7686\n"
     ]
    },
    {
     "name": "stderr",
     "output_type": "stream",
     "text": [
      " 60%|██████    | 120041/200000 [04:14<02:36, 512.46it/s]"
     ]
    },
    {
     "name": "stdout",
     "output_type": "stream",
     "text": [
      " 120000/ 200000: 1.7737\n"
     ]
    },
    {
     "name": "stderr",
     "output_type": "stream",
     "text": [
      " 65%|██████▌   | 130081/200000 [04:35<02:45, 423.02it/s]"
     ]
    },
    {
     "name": "stdout",
     "output_type": "stream",
     "text": [
      " 130000/ 200000: 1.9032\n"
     ]
    },
    {
     "name": "stderr",
     "output_type": "stream",
     "text": [
      " 70%|███████   | 140094/200000 [04:55<01:58, 504.77it/s]"
     ]
    },
    {
     "name": "stdout",
     "output_type": "stream",
     "text": [
      " 140000/ 200000: 1.8166\n"
     ]
    },
    {
     "name": "stderr",
     "output_type": "stream",
     "text": [
      " 75%|███████▌  | 150075/200000 [05:16<01:35, 520.78it/s]"
     ]
    },
    {
     "name": "stdout",
     "output_type": "stream",
     "text": [
      " 150000/ 200000: 2.0719\n"
     ]
    },
    {
     "name": "stderr",
     "output_type": "stream",
     "text": [
      " 80%|████████  | 160050/200000 [05:37<01:35, 419.20it/s]"
     ]
    },
    {
     "name": "stdout",
     "output_type": "stream",
     "text": [
      " 160000/ 200000: 1.9056\n"
     ]
    },
    {
     "name": "stderr",
     "output_type": "stream",
     "text": [
      " 85%|████████▌ | 170075/200000 [05:58<01:10, 423.78it/s]"
     ]
    },
    {
     "name": "stdout",
     "output_type": "stream",
     "text": [
      " 170000/ 200000: 1.8371\n"
     ]
    },
    {
     "name": "stderr",
     "output_type": "stream",
     "text": [
      " 90%|█████████ | 180084/200000 [06:19<00:36, 547.58it/s]"
     ]
    },
    {
     "name": "stdout",
     "output_type": "stream",
     "text": [
      " 180000/ 200000: 1.8423\n"
     ]
    },
    {
     "name": "stderr",
     "output_type": "stream",
     "text": [
      " 95%|█████████▌| 190080/200000 [06:39<00:19, 513.47it/s]"
     ]
    },
    {
     "name": "stdout",
     "output_type": "stream",
     "text": [
      " 190000/ 200000: 1.8981\n"
     ]
    },
    {
     "name": "stderr",
     "output_type": "stream",
     "text": [
      "100%|██████████| 200000/200000 [07:00<00:00, 475.87it/s]\n"
     ]
    }
   ],
   "source": [
    "STEPS = 2_00000\n",
    "BATCH_SIZE = 128\n",
    "lossi = []\n",
    "\n",
    "for i in tqdm(range(STEPS)):\n",
    "    indices = torch.randint(0, x_train.shape[0],(BATCH_SIZE,))\n",
    "    x_batch , y_batch = x_train[indices], y_train[indices]\n",
    "\n",
    "    \n",
    "    x = forward(x_batch, True)\n",
    "\n",
    "    loss = F.cross_entropy(x,y_batch)\n",
    "\n",
    "    ################### BACKWARD ##################\n",
    "    for p in parameters:\n",
    "        p.grad = None\n",
    "\n",
    "    loss.backward()\n",
    "    lr = 0.01 if i < STEPS*0.5 else 0.001\n",
    "    with torch.no_grad():\n",
    "        for p in parameters:\n",
    "            p += -lr * p.grad\n",
    "\n",
    "\n",
    "    # track stats\n",
    "    if i % 10000 == 0: # print every once in a while\n",
    "        print(f'{i:7d}/{STEPS:7d}: {loss.item():.4f}')\n",
    "    lossi.append(loss.log10().item())"
   ]
  },
  {
   "attachments": {},
   "cell_type": "markdown",
   "metadata": {},
   "source": [
    "### evaluation and inference"
   ]
  },
  {
   "cell_type": "code",
   "execution_count": 698,
   "metadata": {},
   "outputs": [],
   "source": [
    "@torch.no_grad()\n",
    "def eval(split):\n",
    "\n",
    "    x,y = {\n",
    "\n",
    "        'train' : (x_train, y_train),\n",
    "        'val' : (x_val, y_val),\n",
    "        'test' : (x_test, y_test),\n",
    "    }[split]\n",
    "    x = forward(x,False)\n",
    "    loss = F.cross_entropy(x,y)\n",
    "\n",
    "\n",
    "    print(split, loss.item())\n",
    "    "
   ]
  },
  {
   "cell_type": "code",
   "execution_count": 699,
   "metadata": {},
   "outputs": [
    {
     "name": "stdout",
     "output_type": "stream",
     "text": [
      "train 1.8110476732254028\n",
      "val 1.8473742008209229\n",
      "test 1.8424553871154785\n"
     ]
    }
   ],
   "source": [
    "eval('train')\n",
    "eval('val')\n",
    "eval('test')\n"
   ]
  },
  {
   "cell_type": "code",
   "execution_count": 700,
   "metadata": {},
   "outputs": [],
   "source": [
    "## saving weights\n",
    "\n",
    "parameters = [embedding] + [layer.parameters() for layer in layers ]\n",
    "\n",
    "bn_conf = []\n",
    "for l in layers:\n",
    "    if l.__class__.__name__ == \"BatchNorm\":\n",
    "        bn_conf.append(l.get_mean_std())\n",
    "\n",
    "save_dict = {\n",
    "    'params': parameters,\n",
    "    'bn_conf': bn_conf\n",
    "}\n",
    "\n",
    "torch.save(save_dict,'weights/en_dataset_weights.pt')"
   ]
  },
  {
   "cell_type": "code",
   "execution_count": 701,
   "metadata": {},
   "outputs": [],
   "source": [
    "def generate_name():\n",
    "\n",
    "    # embedding,w1,b1,w2,b2,bnbias,bngain = best_params \n",
    "    w = ''\n",
    "    last_ch = [0]* CONTEXT_SIZE\n",
    "    while True:\n",
    "        last_ch = torch.tensor(last_ch).unsqueeze(0)\n",
    "        x = forward(last_ch, False)\n",
    "        last_ch = last_ch.clone().detach().squeeze(0)\n",
    "\n",
    "        p = torch.softmax(x, dim=1)\n",
    "\n",
    "        next_ch = torch.multinomial(p, num_samples=1, replacement=True).item()\n",
    "\n",
    "        last_ch = last_ch.tolist()\n",
    "        last_ch = last_ch[1:] + [next_ch]\n",
    "\n",
    "        w += itos[next_ch]\n",
    "\n",
    "        if next_ch == 0:\n",
    "            break\n",
    "\n",
    "    return w"
   ]
  },
  {
   "cell_type": "code",
   "execution_count": 702,
   "metadata": {},
   "outputs": [
    {
     "name": "stdout",
     "output_type": "stream",
     "text": [
      "shil.\n",
      "nirun.\n",
      "muqaitt.\n",
      "abdulkadirah.\n",
      "abdalailai.\n",
      "dualoon.\n",
      "mzaiamaiah.\n",
      "alniol.\n",
      "alamdhurman.\n",
      "dwazalai.\n"
     ]
    }
   ],
   "source": [
    "for i in range(10):\n",
    "   print(generate_name())"
   ]
  },
  {
   "cell_type": "code",
   "execution_count": 703,
   "metadata": {},
   "outputs": [
    {
     "ename": "KeyError",
     "evalue": "0",
     "output_type": "error",
     "traceback": [
      "\u001b[0;31m---------------------------------------------------------------------------\u001b[0m",
      "\u001b[0;31mKeyError\u001b[0m                                  Traceback (most recent call last)",
      "\u001b[1;32m/data/boda/Arabic_makemore/english_makemore_3.ipynb Cell 38\u001b[0m in \u001b[0;36m<cell line: 13>\u001b[0;34m()\u001b[0m\n\u001b[1;32m     <a href='vscode-notebook-cell://ssh-remote%2B10.53.126.172/data/boda/Arabic_makemore/english_makemore_3.ipynb#X56sdnNjb2RlLXJlbW90ZQ%3D%3D?line=9'>10</a>\u001b[0m p1 \u001b[39m=\u001b[39m n_layers[\u001b[39m0\u001b[39m]\u001b[39m.\u001b[39mparameters()\n\u001b[1;32m     <a href='vscode-notebook-cell://ssh-remote%2B10.53.126.172/data/boda/Arabic_makemore/english_makemore_3.ipynb#X56sdnNjb2RlLXJlbW90ZQ%3D%3D?line=11'>12</a>\u001b[0m j \u001b[39m=\u001b[39m \u001b[39m0\u001b[39m\n\u001b[0;32m---> <a href='vscode-notebook-cell://ssh-remote%2B10.53.126.172/data/boda/Arabic_makemore/english_makemore_3.ipynb#X56sdnNjb2RlLXJlbW90ZQ%3D%3D?line=12'>13</a>\u001b[0m n_embedding \u001b[39m=\u001b[39m english_params[\u001b[39m0\u001b[39;49m]\n\u001b[1;32m     <a href='vscode-notebook-cell://ssh-remote%2B10.53.126.172/data/boda/Arabic_makemore/english_makemore_3.ipynb#X56sdnNjb2RlLXJlbW90ZQ%3D%3D?line=13'>14</a>\u001b[0m \u001b[39mfor\u001b[39;00m i,l \u001b[39min\u001b[39;00m \u001b[39menumerate\u001b[39m(n_layers):\n\u001b[1;32m     <a href='vscode-notebook-cell://ssh-remote%2B10.53.126.172/data/boda/Arabic_makemore/english_makemore_3.ipynb#X56sdnNjb2RlLXJlbW90ZQ%3D%3D?line=14'>15</a>\u001b[0m     \u001b[39mif\u001b[39;00m l\u001b[39m.\u001b[39mparameters():\n",
      "\u001b[0;31mKeyError\u001b[0m: 0"
     ]
    }
   ],
   "source": [
    "english_params = torch.load('weights/ar_dataset_weights.pt')\n",
    "\n",
    "n_layers = [\n",
    "    Linear(CONTEXT_SIZE*n_embed , n_hidden),BatchNorm(n_hidden), Activation(activation),\n",
    "    Linear(n_hidden, n_hidden),BatchNorm(n_hidden), Activation(activation),\n",
    "    Linear(n_hidden, n_hidden),BatchNorm(n_hidden), Activation(activation),\n",
    "    Linear(n_hidden , VOCAB_SIZE)\n",
    "]\n",
    "\n",
    "p1 = n_layers[0].parameters()\n",
    "\n",
    "j = 0\n",
    "n_embedding = english_params[0]\n",
    "for i,l in enumerate(n_layers):\n",
    "    if l.parameters():\n",
    "        l.set_parameters( english_params[i+1] )\n",
    "    if l.__class__.__name__ == \"BatchNorm\":\n",
    "        l.set_mean_std(bn_conf[j])\n",
    "        j+=1\n",
    "\n",
    "\n",
    "# for i,l in enumerate(layers):\n",
    "#     for j,p in enumerate(l.parameters()):\n",
    "#         print(p == n_layers[i].parameters()[j])\n",
    "\n",
    "# print(p1 == p2)"
   ]
  },
  {
   "cell_type": "code",
   "execution_count": null,
   "metadata": {},
   "outputs": [],
   "source": [
    "\n",
    "# print(n_embedding == embedding)\n",
    "layers = n_layers\n",
    "embedding = n_embedding\n",
    "# print(n_layers[0].parameters()[0] == layers[0].parameters()[0])"
   ]
  },
  {
   "cell_type": "code",
   "execution_count": null,
   "metadata": {},
   "outputs": [
    {
     "name": "stdout",
     "output_type": "stream",
     "text": [
      "خبيني.\n",
      "الهيسي.\n",
      "رامكي.\n",
      "اللحيت.\n",
      "الوزير.\n",
      "العرادل.\n",
      "عباشنة.\n",
      "قندون.\n",
      "عبيبان.\n",
      "المغنوع.\n"
     ]
    }
   ],
   "source": [
    "for i in range(10):\n",
    "   print(generate_name())"
   ]
  },
  {
   "cell_type": "code",
   "execution_count": null,
   "metadata": {},
   "outputs": [],
   "source": [
    "# for i, l in enumerate(layers):\n",
    "#     print(torch.equal(layers[i].parameters(),english_params[i+1])) \n",
    "\n",
    "# print(torch.equal(embedding,english_params[0]))"
   ]
  },
  {
   "attachments": {},
   "cell_type": "markdown",
   "metadata": {},
   "source": [
    "# RESULTS LOG\n",
    "\n",
    "### With Random init\n",
    "\n",
    "train 1.948970913887024\n",
    "val 1.9736006259918213\n",
    "test 1.9740004539489746\n",
    "### With squashed parameters around 0\n",
    "train 1.9164973497390747\n",
    "val 1.9359190464019775\n",
    "test 1.9330960512161255\n",
    "\n",
    "train 1.9137359857559204\n",
    "val 1.9327006340026855\n",
    "test 1.9292832612991333\n",
    "\n",
    "### Using Batch Normalization \n",
    "train 1.9241148233413696\n",
    "val 1.9510610103607178\n",
    "test 1.9430794715881348\n",
    "\n",
    "\n",
    "### Using all the above and context length of 5\n",
    "train 1.7000510692596436\n",
    "val 1.8077348470687866\n",
    "test 1.8030661344528198"
   ]
  },
  {
   "cell_type": "markdown",
   "metadata": {},
   "source": []
  }
 ],
 "metadata": {
  "kernelspec": {
   "display_name": "dl",
   "language": "python",
   "name": "python3"
  },
  "language_info": {
   "codemirror_mode": {
    "name": "ipython",
    "version": 3
   },
   "file_extension": ".py",
   "mimetype": "text/x-python",
   "name": "python",
   "nbconvert_exporter": "python",
   "pygments_lexer": "ipython3",
   "version": "3.10.6"
  },
  "orig_nbformat": 4,
  "vscode": {
   "interpreter": {
    "hash": "64b178eb49eecde524ce545b08b9f340bede480db49f6e9a9fc4b812ce5e0df6"
   }
  }
 },
 "nbformat": 4,
 "nbformat_minor": 2
}
